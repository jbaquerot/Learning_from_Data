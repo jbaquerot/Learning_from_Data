{
 "metadata": {
  "name": "",
  "signature": "sha256:5654f29a6d9a059d0362fb5e87aac5466ad51ab86b5605f95482fd6593dc3a49"
 },
 "nbformat": 3,
 "nbformat_minor": 0,
 "worksheets": [
  {
   "cells": [
    {
     "cell_type": "heading",
     "level": 1,
     "metadata": {},
     "source": [
      "Problem 1"
     ]
    },
    {
     "cell_type": "code",
     "collapsed": false,
     "input": [
      "%pylab"
     ],
     "language": "python",
     "metadata": {},
     "outputs": [
      {
       "output_type": "stream",
       "stream": "stdout",
       "text": [
        "Using matplotlib backend: MacOSX\n",
        "Populating the interactive namespace from numpy and matplotlib\n"
       ]
      }
     ],
     "prompt_number": 6
    },
    {
     "cell_type": "code",
     "collapsed": false,
     "input": [
      "import numpy as np"
     ],
     "language": "python",
     "metadata": {},
     "outputs": [],
     "prompt_number": 7
    },
    {
     "cell_type": "code",
     "collapsed": false,
     "input": [
      "d_vc = 10\n",
      "epsilon = 0.05\n",
      "delta = 1 - 0.95"
     ],
     "language": "python",
     "metadata": {},
     "outputs": [],
     "prompt_number": 8
    },
    {
     "cell_type": "code",
     "collapsed": false,
     "input": [
      "def grossFunction(N, d_vc):\n",
      "    return np.float128(N ** d_vc)"
     ],
     "language": "python",
     "metadata": {},
     "outputs": [],
     "prompt_number": 9
    },
    {
     "cell_type": "code",
     "collapsed": false,
     "input": [
      "def boundBounded(N, d_vc, epsilon, delta):\n",
      "    return (8/epsilon**2)*log((4*grossFunction(2*N,d_vc))/delta)"
     ],
     "language": "python",
     "metadata": {},
     "outputs": [],
     "prompt_number": 10
    },
    {
     "cell_type": "code",
     "collapsed": false,
     "input": [
      "N = 2000\n",
      "boundBounded(N, d_vc, epsilon, delta)"
     ],
     "language": "python",
     "metadata": {},
     "outputs": [
      {
       "metadata": {},
       "output_type": "pyout",
       "prompt_number": 11,
       "text": [
        "279432.07371422126414"
       ]
      }
     ],
     "prompt_number": 11
    },
    {
     "cell_type": "code",
     "collapsed": false,
     "input": [
      "N = 1000\n",
      "for i in range(10):\n",
      "    N = boundBounded(N, d_vc, epsilon, delta)\n",
      "    print N"
     ],
     "language": "python",
     "metadata": {},
     "outputs": [
      {
       "output_type": "stream",
       "stream": "stdout",
       "text": [
        "257251.363936\n",
        "434853.08159\n",
        "451651.627315\n",
        "452864.520629\n",
        "452950.340234\n",
        "452956.403785\n",
        "452956.832159\n",
        "452956.862423\n",
        "452956.864561\n",
        "452956.864712\n"
       ]
      }
     ],
     "prompt_number": 12
    },
    {
     "cell_type": "heading",
     "level": 1,
     "metadata": {},
     "source": [
      "Problem 2"
     ]
    },
    {
     "cell_type": "code",
     "collapsed": false,
     "input": [
      "import numpy as np\n",
      "import matplotlib.pyplot as plt"
     ],
     "language": "python",
     "metadata": {},
     "outputs": [],
     "prompt_number": 13
    },
    {
     "cell_type": "code",
     "collapsed": false,
     "input": [
      "%matplotlib inline"
     ],
     "language": "python",
     "metadata": {},
     "outputs": [],
     "prompt_number": 14
    },
    {
     "cell_type": "code",
     "collapsed": false,
     "input": [
      "d_vc = 50\n",
      "delta = 0.05"
     ],
     "language": "python",
     "metadata": {},
     "outputs": [],
     "prompt_number": 15
    },
    {
     "cell_type": "heading",
     "level": 2,
     "metadata": {},
     "source": [
      "Original VC bound"
     ]
    },
    {
     "cell_type": "code",
     "collapsed": false,
     "input": [
      "def VC_bound(N, d_vc, delta):\n",
      "    return sqrt((8.0/N)*log(4*(grossFunction(2*N, d_vc))/delta))"
     ],
     "language": "python",
     "metadata": {},
     "outputs": [],
     "prompt_number": 16
    },
    {
     "cell_type": "heading",
     "level": 2,
     "metadata": {},
     "source": [
      "Rademacher Penalty Bound"
     ]
    },
    {
     "cell_type": "code",
     "collapsed": false,
     "input": [
      "def Redemacher(N, d_vc, delta):\n",
      "    a = sqrt(((2*log(2*N*grossFunction(N,d_vc)))/N)) \n",
      "    b = sqrt((2/N)*log(1/delta))\n",
      "    c = 1.0/N\n",
      "    return a + b + c"
     ],
     "language": "python",
     "metadata": {},
     "outputs": [],
     "prompt_number": 17
    },
    {
     "cell_type": "heading",
     "level": 2,
     "metadata": {},
     "source": [
      "Parrondo and Van den Broek"
     ]
    },
    {
     "cell_type": "code",
     "collapsed": false,
     "input": [
      "def Parrondo(N, d_vc, delta, epsion):\n",
      "    a = log(6*grossFunction(N, d_vc)/delta)\n",
      "    b = 2*epsion + a\n",
      "    c = 1.0/N\n",
      "    return sqrt(c*b)"
     ],
     "language": "python",
     "metadata": {},
     "outputs": [],
     "prompt_number": 18
    },
    {
     "cell_type": "code",
     "collapsed": false,
     "input": [
      "np.all(abs(Parrondo(N, d_vc, delta, 0.5) - Parrondo(N, d_vc, delta, 0.1))<0.001)"
     ],
     "language": "python",
     "metadata": {},
     "outputs": [
      {
       "metadata": {},
       "output_type": "pyout",
       "prompt_number": 19,
       "text": [
        "True"
       ]
      }
     ],
     "prompt_number": 19
    },
    {
     "cell_type": "code",
     "collapsed": false,
     "input": [
      "def VanDenBroek(N, d_vc, delta):\n",
      "    epsion = 0.5\n",
      "    error = 0.0001\n",
      "    while True:\n",
      "        newEpsilon = Parrondo(N, d_vc, delta, epsion)\n",
      "        if np.all(abs(newEpsilon-epsion) < error):\n",
      "            break\n",
      "        epsion = newEpsilon\n",
      "    return epsion"
     ],
     "language": "python",
     "metadata": {},
     "outputs": [],
     "prompt_number": 20
    },
    {
     "cell_type": "code",
     "collapsed": false,
     "input": [
      "VanDenBroek(N, d_vc, delta)"
     ],
     "language": "python",
     "metadata": {},
     "outputs": [
      {
       "metadata": {},
       "output_type": "pyout",
       "prompt_number": 21,
       "text": [
        "0.038084014936989341687"
       ]
      }
     ],
     "prompt_number": 21
    },
    {
     "cell_type": "heading",
     "level": 2,
     "metadata": {},
     "source": [
      "Devroye"
     ]
    },
    {
     "cell_type": "code",
     "collapsed": false,
     "input": [
      "def DevroyeAux(N, d_vc, delta, epsilon):\n",
      "    a = log(4) + (2*d_vc)*log(N) - log(delta)\n",
      "    b = 4*epsilon*(1+epsilon)\n",
      "    c = 1.0/(2*N)\n",
      "    return sqrt(c*(b+a))"
     ],
     "language": "python",
     "metadata": {},
     "outputs": [],
     "prompt_number": 22
    },
    {
     "cell_type": "code",
     "collapsed": false,
     "input": [
      "def Devroye(N, d_vc, delta):\n",
      "    epsion = 0.1\n",
      "    error = 0.00001\n",
      "    while True:\n",
      "        newEpsilon = DevroyeAux(N, d_vc, delta, epsion)\n",
      "        if np.all(abs(newEpsilon-epsion) < error):\n",
      "            break\n",
      "        epsion = newEpsilon\n",
      "    return epsion"
     ],
     "language": "python",
     "metadata": {},
     "outputs": [],
     "prompt_number": 23
    },
    {
     "cell_type": "code",
     "collapsed": false,
     "input": [
      "Devroye(10000, d_vc, delta)"
     ],
     "language": "python",
     "metadata": {},
     "outputs": [
      {
       "metadata": {},
       "output_type": "pyout",
       "prompt_number": 24,
       "text": [
        "0.21522800300394265"
       ]
      }
     ],
     "prompt_number": 24
    },
    {
     "cell_type": "heading",
     "level": 3,
     "metadata": {},
     "source": [
      "Plotting"
     ]
    },
    {
     "cell_type": "code",
     "collapsed": false,
     "input": [
      "N = np.linspace(500, 20000)\n",
      "line, = plt.plot(N, VC_bound(N, d_vc, delta)  , '--', linewidth=2)\n",
      "line, = plt.plot(N, Redemacher(N, d_vc, delta) , ':', linewidth=2)\n",
      "line, = plt.plot(N, VanDenBroek(N, d_vc, delta) , '-', linewidth=2)\n",
      "line, = plt.plot(N, Devroye(N, d_vc, delta) , '*', linewidth=2)\n",
      "plt.show()"
     ],
     "language": "python",
     "metadata": {},
     "outputs": [
      {
       "metadata": {},
       "output_type": "display_data",
       "png": "[encoded data removed]",
       "text": [
        "<matplotlib.figure.Figure at 0x10bc1a790>"
       ]
      }
     ],
     "prompt_number": 25
    },
    {
     "cell_type": "code",
     "collapsed": false,
     "input": [
      "d_vc = 50\n",
      "delta = 0.05\n",
      "N = 10000\n",
      "print \"VC Bound: \", VC_bound(N, d_vc, delta) \n",
      "print \"Redemacher\", Redemacher(N, d_vc, delta) \n",
      "print \"VanDenBroek\", VanDenBroek(N, d_vc, delta)\n",
      "print \"Devroye\",Devroye(N, d_vc, delta)"
     ],
     "language": "python",
     "metadata": {},
     "outputs": [
      {
       "output_type": "stream",
       "stream": "stdout",
       "text": [
        "VC Bound:  0.632174915201\n",
        "Redemacher 0.306831317655\n",
        "VanDenBroek 0.215809265798\n",
        "Devroye 0.215228003004\n"
       ]
      }
     ],
     "prompt_number": 26
    },
    {
     "cell_type": "heading",
     "level": 1,
     "metadata": {},
     "source": [
      "Problem 3"
     ]
    },
    {
     "cell_type": "code",
     "collapsed": false,
     "input": [
      "d_vc = 50\n",
      "delta = 0.05\n",
      "N = 5\n",
      "print \"VC Bound: \", VC_bound(N, d_vc, delta) \n",
      "print \"Redemacher\", Redemacher(N, d_vc, delta) \n",
      "print \"VanDenBroek\", VanDenBroek(N, d_vc, delta)\n",
      "print \"Devroye\",Devroye(N, d_vc, delta)"
     ],
     "language": "python",
     "metadata": {},
     "outputs": [
      {
       "output_type": "stream",
       "stream": "stdout",
       "text": [
        "VC Bound:  13.828161485\n",
        "Redemacher 5.95411090316\n",
        "VanDenBroek 4.3342146202\n",
        "Devroye 5.59311359271\n"
       ]
      }
     ],
     "prompt_number": 27
    },
    {
     "cell_type": "heading",
     "level": 2,
     "metadata": {},
     "source": [
      "Ploting "
     ]
    },
    {
     "cell_type": "code",
     "collapsed": false,
     "input": [
      "N = np.linspace(3, 10)\n",
      "line, = plt.plot(N, VC_bound(N, d_vc, delta)  , '--', linewidth=2)\n",
      "line, = plt.plot(N, Redemacher(N, d_vc, delta) , ':', linewidth=2)\n",
      "line, = plt.plot(N, VanDenBroek(N, d_vc, delta) , '-', linewidth=2)\n",
      "line, = plt.plot(N, Devroye(N, d_vc, delta) , '*', linewidth=2)\n",
      "plt.show()"
     ],
     "language": "python",
     "metadata": {},
     "outputs": [
      {
       "metadata": {},
       "output_type": "display_data",
       "png": "[encoded data removed]",
       "text": [
        "<matplotlib.figure.Figure at 0x10bc21ad0>"
       ]
      }
     ],
     "prompt_number": 28
    },
    {
     "cell_type": "heading",
     "level": 1,
     "metadata": {},
     "source": [
      "Problem 4"
     ]
    },
    {
     "cell_type": "code",
     "collapsed": false,
     "input": [
      "x = np.linspace(-1, 1)\n",
      "line, = plt.plot(x, sin(pi*x)  , '--', linewidth=2)\n",
      "line, = plt.plot(x, 0.79*x  , ':', linewidth=2)\n",
      "line, = plt.plot(x, 1.07*x  , '-', linewidth=2)\n",
      "line, = plt.plot(x, 1.58*x  , '+', linewidth=2)\n",
      "plt.show()"
     ],
     "language": "python",
     "metadata": {},
     "outputs": [
      {
       "metadata": {},
       "output_type": "display_data",
       "png": "[encoded data removed]",
       "text": [
        "<matplotlib.figure.Figure at 0x10bc23510>"
       ]
      }
     ],
     "prompt_number": 29
    },
    {
     "cell_type": "code",
     "collapsed": false,
     "input": [
      "def getPoint():\n",
      "    x = np.random.uniform(-1,1)\n",
      "    y = sin(pi*x)\n",
      "    #don't put 1 because the hypotesis set is y = bx\n",
      "    return (x, y)\n",
      "    "
     ],
     "language": "python",
     "metadata": {},
     "outputs": [],
     "prompt_number": 30
    },
    {
     "cell_type": "code",
     "collapsed": false,
     "input": [
      "def plotHypotesis(m, X):\n",
      "    x = np.linspace(-1, 1)\n",
      "    line, = plt.plot(x, sin(x)  , '--', linewidth=2)\n",
      "    line, = plt.plot(x, m*x  , ':', linewidth=2)\n",
      "    plt.plot(X[0],X[1], 'ro')"
     ],
     "language": "python",
     "metadata": {},
     "outputs": [],
     "prompt_number": 98
    },
    {
     "cell_type": "code",
     "collapsed": false,
     "input": [
      "X = np.array([np.random.uniform(-1,1), np.random.uniform(-1,1)])\n",
      "Y = sin(pi*X)\n",
      "#m = (1/X.T.dot(X)).dot(X.T).dot(Y)\n",
      "\n",
      "X_pseudo = (X[0]/X.T.dot(X))+(X[1]/X.T.dot(X))\n",
      "m = X_pseudo*Y[0]+X_pseudo*Y[1]\n",
      "g_X = X * m"
     ],
     "language": "python",
     "metadata": {},
     "outputs": [],
     "prompt_number": 144
    },
    {
     "cell_type": "code",
     "collapsed": false,
     "input": [
      "print X\n",
      "print Y \n",
      "print g_X\n",
      "print m\n",
      "print X.T.dot(X)"
     ],
     "language": "python",
     "metadata": {},
     "outputs": [
      {
       "output_type": "stream",
       "stream": "stdout",
       "text": [
        "[-0.27256006 -0.59373364]\n",
        "[-0.75540547 -0.95695525]\n",
        "[-0.94730417 -2.06356848]\n",
        "3.47557949273\n",
        "0.426808629652\n"
       ]
      }
     ],
     "prompt_number": 145
    },
    {
     "cell_type": "code",
     "collapsed": false,
     "input": [
      "x = np.linspace(-1, 1)\n",
      "line, = plt.plot(x, sin(pi*x)  , '--', linewidth=2)\n",
      "line, = plt.plot(x, m*x , ':', linewidth=2)\n",
      "plt.plot(X,Y, 'ro')"
     ],
     "language": "python",
     "metadata": {},
     "outputs": [
      {
       "metadata": {},
       "output_type": "pyout",
       "prompt_number": 146,
       "text": [
        "[<matplotlib.lines.Line2D at 0x10e980390>]"
       ]
      },
      {
       "metadata": {},
       "output_type": "display_data",
       "png": "[encoded data removed]",
       "text": [
        "<matplotlib.figure.Figure at 0x10edbd110>"
       ]
      }
     ],
     "prompt_number": 146
    },
    {
     "cell_type": "code",
     "collapsed": false,
     "input": [
      "X"
     ],
     "language": "python",
     "metadata": {},
     "outputs": [
      {
       "metadata": {},
       "output_type": "pyout",
       "prompt_number": 35,
       "text": [
        "array([-0.31208829, -0.49492046])"
       ]
      }
     ],
     "prompt_number": 35
    },
    {
     "cell_type": "code",
     "collapsed": false,
     "input": [
      "def newExperiment():\n",
      "    X = np.array([np.random.uniform(-1,1), np.random.uniform(-1,1)])\n",
      "    Y = sin(pi*X)\n",
      "    #m = X.T.dot(1/X.T.dot(X)).dot(Y)\n",
      "    #g_X = m * X\n",
      "    X_pseudo = (X[0]/X.T.dot(X))+(X[1]/X.T.dot(X))\n",
      "    m = X_pseudo*Y[0]+X_pseudo*Y[1]\n",
      "    g_X = m * X\n",
      "    return X, Y, m, g_X\n",
      "    "
     ],
     "language": "python",
     "metadata": {},
     "outputs": [],
     "prompt_number": 121
    },
    {
     "cell_type": "code",
     "collapsed": false,
     "input": [
      "experiments = [newExperiment() for i in range(1000)]"
     ],
     "language": "python",
     "metadata": {},
     "outputs": [],
     "prompt_number": 122
    },
    {
     "cell_type": "code",
     "collapsed": false,
     "input": [
      "g_mean = mean([experiments[i][2] for i in range(1000)])"
     ],
     "language": "python",
     "metadata": {},
     "outputs": [],
     "prompt_number": 123
    },
    {
     "cell_type": "code",
     "collapsed": false,
     "input": [
      "print abs(0.79 - g_mean)\n",
      "print abs(1.07 - g_mean)\n",
      "print abs(1.58 - g_mean)\n",
      "print g_mean"
     ],
     "language": "python",
     "metadata": {},
     "outputs": [
      {
       "output_type": "stream",
       "stream": "stdout",
       "text": [
        "0.631409614847\n",
        "0.351409614847\n",
        "0.158590385153\n",
        "1.42140961485\n"
       ]
      }
     ],
     "prompt_number": 124
    },
    {
     "cell_type": "heading",
     "level": 1,
     "metadata": {},
     "source": [
      "Problem 5 & 6"
     ]
    },
    {
     "cell_type": "code",
     "collapsed": false,
     "input": [
      "(experiments[2][3]-g_mean*experiments[2][0])**2"
     ],
     "language": "python",
     "metadata": {},
     "outputs": [
      {
       "metadata": {},
       "output_type": "pyout",
       "prompt_number": 260,
       "text": [
        "array([ 0.01115652,  0.0006067 ])"
       ]
      }
     ],
     "prompt_number": 260
    },
    {
     "cell_type": "code",
     "collapsed": false,
     "input": [
      "bias = mean([(experiments[i][1]-g_mean*experiments[i][0])**2 for i in range(1000)])"
     ],
     "language": "python",
     "metadata": {},
     "outputs": [
      {
       "output_type": "stream",
       "stream": "stdout",
       "text": [
        "\n"
       ]
      }
     ],
     "prompt_number": 270
    },
    {
     "cell_type": "code",
     "collapsed": false,
     "input": [
      "variance = mean([mean((experiments[i][3]-g_mean*experiments[i][0])**2) for i in range(1000)])"
     ],
     "language": "python",
     "metadata": {},
     "outputs": [],
     "prompt_number": 271
    },
    {
     "cell_type": "code",
     "collapsed": false,
     "input": [
      "print \"Bias: \" , bias\n",
      "print \"Variance: \" , variance"
     ],
     "language": "python",
     "metadata": {},
     "outputs": [
      {
       "output_type": "stream",
       "stream": "stdout",
       "text": [
        "Bias:  0.266939026882\n",
        "Variance:  0.198641120029\n"
       ]
      }
     ],
     "prompt_number": 279
    },
    {
     "cell_type": "heading",
     "level": 1,
     "metadata": {},
     "source": [
      "Problem 7"
     ]
    },
    {
     "cell_type": "code",
     "collapsed": false,
     "input": [],
     "language": "python",
     "metadata": {},
     "outputs": []
    }
   ],
   "metadata": {}
  }
 ]
}