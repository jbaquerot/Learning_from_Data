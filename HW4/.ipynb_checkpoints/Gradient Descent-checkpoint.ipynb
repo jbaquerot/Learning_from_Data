{
 "metadata": {
  "name": "",
  "signature": "sha256:c134d41e8cf496e1e40b90ce52fdeadd4b536b6aec180f011e7a2cdc08b07c96"
 },
 "nbformat": 3,
 "nbformat_minor": 0,
 "worksheets": [
  {
   "cells": [
    {
     "cell_type": "code",
     "collapsed": false,
     "input": [
      "%pylab\n",
      "%matplotlib inline"
     ],
     "language": "python",
     "metadata": {},
     "outputs": [
      {
       "output_type": "stream",
       "stream": "stdout",
       "text": [
        "Using matplotlib backend: MacOSX\n",
        "Populating the interactive namespace from numpy and matplotlib\n"
       ]
      }
     ],
     "prompt_number": 1
    },
    {
     "cell_type": "heading",
     "level": 1,
     "metadata": {},
     "source": [
      "Problem 5"
     ]
    },
    {
     "cell_type": "code",
     "collapsed": false,
     "input": [
      "exp(1)"
     ],
     "language": "python",
     "metadata": {},
     "outputs": [
      {
       "metadata": {},
       "output_type": "pyout",
       "prompt_number": 36,
       "text": [
        "2.7182818284590451"
       ]
      }
     ],
     "prompt_number": 36
    },
    {
     "cell_type": "code",
     "collapsed": false,
     "input": [
      "def error(w):\n",
      "    u = w[0]\n",
      "    v = w[1]\n",
      "    return np.float128((u*exp(v)-2*v*exp(-u))**2)"
     ],
     "language": "python",
     "metadata": {},
     "outputs": [],
     "prompt_number": 17
    },
    {
     "cell_type": "code",
     "collapsed": false,
     "input": [
      "def aproxPartialDerivativeUV(w):\n",
      "    delta = 1e-10\n",
      "    wMasDelta1 = np.float128([w[0]+delta,w[1]])\n",
      "    wMasDelta2 = np.float128([w[0],w[1]+delta])\n",
      "    partialDerivativeU = (error(wMasDelta1)-error(w))/delta\n",
      "    partialDerivativeV = (error(wMasDelta2)-error(w))/delta\n",
      "    return np.float128([partialDerivativeU,partialDerivativeV])"
     ],
     "language": "python",
     "metadata": {},
     "outputs": [],
     "prompt_number": 53
    },
    {
     "cell_type": "code",
     "collapsed": false,
     "input": [
      "def partialDerivativeUV(w):\n",
      "    u = w[0]\n",
      "    v = w[1]\n",
      "    return np.float128([2*(exp(v)+2*v*exp(-u)),2*(u*exp(v)-2*exp(-u))])"
     ],
     "language": "python",
     "metadata": {},
     "outputs": [],
     "prompt_number": 54
    },
    {
     "cell_type": "code",
     "collapsed": false,
     "input": [
      "print aproxPartialDerivativeUV(w)\n",
      "print partialDerivativeUV(w)"
     ],
     "language": "python",
     "metadata": {},
     "outputs": [
      {
       "output_type": "stream",
       "stream": "stdout",
       "text": [
        "[ 1.2203508e-06 -2.128319e-06]\n",
        "[ 2.1401222 -3.7333821]\n"
       ]
      }
     ],
     "prompt_number": 55
    },
    {
     "cell_type": "code",
     "collapsed": false,
     "input": [
      "w = np.float128([1,1])\n",
      "learningRate = 0.1\n",
      "i = 0\n",
      "while (error(w)>1e-14):\n",
      "    #print error(w)\n",
      "    i = i + 1\n",
      "    pDUV = - aproxPartialDerivativeUV(w) \n",
      "    #pNorm = sqrt(pDUV[0]**2 + pDUV[1]**2)\n",
      "    #learningRate = learningRate*pNorm\n",
      "    #print pDUV \n",
      "    w = w + learningRate*pDUV  \n",
      "    if (i>20): \n",
      "        break\n",
      "print i\n",
      "print w"
     ],
     "language": "python",
     "metadata": {},
     "outputs": [
      {
       "output_type": "stream",
       "stream": "stdout",
       "text": [
        "10\n",
        "[ 0.044736291  0.023958714]\n"
       ]
      }
     ],
     "prompt_number": 58
    },
    {
     "cell_type": "code",
     "collapsed": false,
     "input": [],
     "language": "python",
     "metadata": {},
     "outputs": []
    },
    {
     "cell_type": "code",
     "collapsed": false,
     "input": [
      "w = np.float128([1.0,1.0])\n",
      "sqrt(w[0]**2+w[1]**2)"
     ],
     "language": "python",
     "metadata": {},
     "outputs": [
      {
       "metadata": {},
       "output_type": "pyout",
       "prompt_number": 28,
       "text": [
        "1.4142135623730950488"
       ]
      }
     ],
     "prompt_number": 28
    },
    {
     "cell_type": "heading",
     "level": 1,
     "metadata": {},
     "source": [
      "Problem 7"
     ]
    },
    {
     "cell_type": "code",
     "collapsed": false,
     "input": [
      "def partialDerivativeU(w):\n",
      "    u = w[0]\n",
      "    v = w[1]\n",
      "    return np.float128(2*(exp(v)+2*v*exp(-u)))"
     ],
     "language": "python",
     "metadata": {},
     "outputs": [],
     "prompt_number": 46
    },
    {
     "cell_type": "code",
     "collapsed": false,
     "input": [
      "def partialDerivativeV(w):\n",
      "    u = w[0]\n",
      "    v = w[1]\n",
      "    return np.float128(2*(u*exp(v)-2*exp(-u)))"
     ],
     "language": "python",
     "metadata": {},
     "outputs": [],
     "prompt_number": 47
    },
    {
     "cell_type": "code",
     "collapsed": false,
     "input": [
      "w = np.float128([1,1])\n",
      "learningRate = 0.1\n",
      "i = 0\n",
      "while (error(w)>1e-14):\n",
      "    print error(w)\n",
      "    i = i + 1\n",
      "    pDU = - aproxPartialDerivativeUV(w)[0] \n",
      "    w1 = w + learningRate*pDU  \n",
      "    pDV = - aproxPartialDerivativeUV(w1)[1]\n",
      "    w = w1 + learningRate*pDV \n",
      "    if (i>=15): \n",
      "        break\n",
      "        \n",
      "print i"
     ],
     "language": "python",
     "metadata": {},
     "outputs": [
      {
       "output_type": "stream",
       "stream": "stdout",
       "text": [
        "3.93039723188\n",
        "0.00688166840463\n",
        "0.00681770327303\n",
        "0.0067396714795\n",
        "0.00664436123057\n",
        "0.00652791118877\n",
        "0.00638575868143\n",
        "0.00621264396374\n",
        "0.0060027180582\n",
        "0.0057498216259\n",
        "0.00544802027106\n",
        "0.00509248529818\n",
        "0.00468077549791\n",
        "0.0042144727475\n",
        "0.00370092395087\n",
        "15\n"
       ]
      }
     ],
     "prompt_number": 63
    },
    {
     "cell_type": "code",
     "collapsed": false,
     "input": [],
     "language": "python",
     "metadata": {},
     "outputs": []
    }
   ],
   "metadata": {}
  }
 ]
}