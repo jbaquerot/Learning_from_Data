{
 "metadata": {
  "name": "",
  "signature": "sha256:62681e4ceca0c40d37266efd1ff43a01b12dab3356186fdd6378ceb06c107059"
 },
 "nbformat": 3,
 "nbformat_minor": 0,
 "worksheets": [
  {
   "cells": [
    {
     "cell_type": "code",
     "collapsed": false,
     "input": [
      "import random\n",
      "import numpy as np\n",
      "import pandas as pd\n",
      "import matplotlib.pyplot as plt"
     ],
     "language": "python",
     "metadata": {},
     "outputs": [],
     "prompt_number": 1
    },
    {
     "cell_type": "code",
     "collapsed": false,
     "input": [
      "def getOnePoint():\n",
      "    return np.array([1,random.uniform(-1,1), random.uniform(-1,1)])"
     ],
     "language": "python",
     "metadata": {},
     "outputs": [],
     "prompt_number": 2
    },
    {
     "cell_type": "code",
     "collapsed": false,
     "input": [
      "def getWeightVector(p1, p2):\n",
      "    w1 = p1[2]-p2[2]\n",
      "    w2 = -(p1[1]-p2[1])\n",
      "    w0 = p1[2]*(p1[1]-p2[1])-p1[1]*(p1[2]-p2[2])\n",
      "    return np.array([w0, w1, w2])\n",
      "\n",
      "def getFuntionLine(weightVector):\n",
      "    return lambda x : -(weightVector[1]*x+weightVector[0])/weightVector[2]\n",
      "\n",
      "def getArea(weightVector):\n",
      "    return (weightVector[1]+2*weightVector[0])/weightVector[2]\n",
      "\n",
      "def areaOfDisagreement(wV1, wV2):\n",
      "    n = 1000\n",
      "    nDis = 0\n",
      "    for i in range(n):\n",
      "        p = getOnePoint()\n",
      "        if getValue(wV1, p[1], p[2]) != getValue(wV2, p[1], p[2]):\n",
      "            nDis = nDis +1\n",
      "    return (1.0*nDis)/n"
     ],
     "language": "python",
     "metadata": {},
     "outputs": [],
     "prompt_number": 126
    },
    {
     "cell_type": "code",
     "collapsed": false,
     "input": [
      "def getVector(x1, x2):\n",
      "    l = x1.size\n",
      "    if l == 1:\n",
      "        return np.array([1, x1, x2])\n",
      "    else:\n",
      "        return np.array([np.ones(l), x1, x2])"
     ],
     "language": "python",
     "metadata": {},
     "outputs": [],
     "prompt_number": 5
    },
    {
     "cell_type": "code",
     "collapsed": false,
     "input": [
      "def getValue(w, x1, x2):\n",
      "    p1 = getVector(x1, x2)\n",
      "    return sign(w.dot(p1))"
     ],
     "language": "python",
     "metadata": {},
     "outputs": [],
     "prompt_number": 6
    },
    {
     "cell_type": "code",
     "collapsed": false,
     "input": [
      "#select 2 random point to stablish the line objective g\n",
      "p1 = getOnePoint()\n",
      "p2 = getOnePoint()\n",
      "w = getWeightVector(p1,p2)\n",
      "#get the funtion that represent the line objective\n",
      "g = getFuntionLine(w)\n",
      "N = 10"
     ],
     "language": "python",
     "metadata": {},
     "outputs": [],
     "prompt_number": 18
    },
    {
     "cell_type": "code",
     "collapsed": false,
     "input": [
      "trainingSet = pd.DataFrame()\n",
      "trainingSet['x1'] = np.random.uniform(low=-1, high=1, size=N )\n",
      "trainingSet['x2'] = np.random.uniform(low=-1, high=1, size=N )\n",
      "trainingSet['g'] = [getValue(w, x1, x2) for (x1, x2) in trainingSet.values]"
     ],
     "language": "python",
     "metadata": {},
     "outputs": [],
     "prompt_number": 19
    },
    {
     "cell_type": "code",
     "collapsed": false,
     "input": [
      "colors = np.where(trainingSet['g'] == -1, 'r', 'k' )\n",
      "plt.scatter(trainingSet['x1'], trainingSet['x2'], color= colors)\n",
      "plt.plot([-1,1], [g(-1),g(1)])\n",
      "plt.show()"
     ],
     "language": "python",
     "metadata": {},
     "outputs": [
      {
       "metadata": {},
       "output_type": "display_data",
       "png": "[encoded data removed]",
       "text": [
        "<matplotlib.figure.Figure at 0x10cc2c590>"
       ]
      }
     ],
     "prompt_number": 20
    },
    {
     "cell_type": "heading",
     "level": 4,
     "metadata": {},
     "source": [
      "Perceptron Learning Algorithm"
     ]
    },
    {
     "cell_type": "code",
     "collapsed": false,
     "input": [
      "#select 2 random point to stablish the line objective g\n",
      "p1 = getOnePoint()\n",
      "p2 = getOnePoint()\n",
      "w = getWeightVector(p1,p2)\n",
      "#get the funtion that represent the line objective\n",
      "g = getFuntionLine(w)"
     ],
     "language": "python",
     "metadata": {},
     "outputs": [],
     "prompt_number": 64
    },
    {
     "cell_type": "code",
     "collapsed": false,
     "input": [
      "def createTrainingSet(nPoints):\n",
      "    p1 = getOnePoint()\n",
      "    p2 = getOnePoint()\n",
      "    #get the Weight Vector from the line that pass throw p1 and p2\n",
      "    w = getWeightVector(p1,p2)\n",
      "    #get the funtion that represent the line objective\n",
      "    g = getFuntionLine(w)\n",
      "    # Numbers of points\n",
      "    N = nPoints\n",
      "    #Set the trainig set\n",
      "    trainingSet = pd.DataFrame()\n",
      "    trainingSet['x1'] = np.random.uniform(low=-1, high=1, size=N )\n",
      "    trainingSet['x2'] = np.random.uniform(low=-1, high=1, size=N )\n",
      "    trainingSet['g'] = [getValue(w, x1, x2) for (x1, x2) in trainingSet.values]\n",
      "    return (w, trainingSet)\n"
     ],
     "language": "python",
     "metadata": {},
     "outputs": [],
     "prompt_number": 84
    },
    {
     "cell_type": "code",
     "collapsed": false,
     "input": [
      "def runPLA(trainingSet):\n",
      "    # setting the start weight vector\n",
      "    wt = np.array([1,0,0])\n",
      "    iteration = 0\n",
      "    while (iteration < 10000):\n",
      "        iteration+= 1\n",
      "        # Select missclassify point\n",
      "        missclassifyPoints = trainingSet[getValue(wt, trainingSet.x1, trainingSet.x2) != trainingSet.g]\n",
      "        if (not missclassifyPoints.empty):\n",
      "            missclassifyPoint = missclassifyPoints.head(1).values[0]\n",
      "        else:\n",
      "            break\n",
      "        wt = wt + getVector(missclassifyPoint[0], missclassifyPoint[1])*missclassifyPoint[2]\n",
      "    return (wt, iteration)"
     ],
     "language": "python",
     "metadata": {},
     "outputs": [],
     "prompt_number": 68
    },
    {
     "cell_type": "code",
     "collapsed": false,
     "input": [
      "#run the Experiment with 10 point\n",
      "iterations = []\n",
      "areaDis = []\n",
      "for i in range(1000):\n",
      "    w, tSet = createTrainingSet(10)\n",
      "    wt, itera = runPLA(tSet)\n",
      "    iterations.append(itera)\n",
      "    areaDis.append(areaOfDisagreement(w,wt))\n",
      "    \n",
      "print np.array(iterations).mean()\n",
      "print np.array(areaDis).mean()"
     ],
     "language": "python",
     "metadata": {},
     "outputs": [
      {
       "output_type": "stream",
       "stream": "stdout",
       "text": [
        "13.377\n",
        "0.106884\n"
       ]
      }
     ],
     "prompt_number": 128
    },
    {
     "cell_type": "code",
     "collapsed": false,
     "input": [
      "#run the Experiment with 100 point\n",
      "iterations = []\n",
      "areaDis = []\n",
      "for i in range(1000):\n",
      "    w, tSet = createTrainingSet(100)\n",
      "    wt, itera = runPLA(tSet)\n",
      "    iterations.append(itera)\n",
      "    areaDis.append(areaOfDisagreement(w,wt))\n",
      "    \n",
      "print np.array(iterations).mean()\n",
      "print np.array(areaDis).mean()"
     ],
     "language": "python",
     "metadata": {},
     "outputs": [
      {
       "output_type": "stream",
       "stream": "stdout",
       "text": [
        "185.943\n",
        "0.013156\n"
       ]
      }
     ],
     "prompt_number": 136
    },
    {
     "cell_type": "code",
     "collapsed": false,
     "input": [],
     "language": "python",
     "metadata": {},
     "outputs": [],
     "prompt_number": 87
    },
    {
     "cell_type": "code",
     "collapsed": false,
     "input": [
      "w, tSet = createTrainingSet(10)\n",
      "wt, itera = runPLA(tSet)\n",
      "#Ploting the result\n",
      "g = getFuntionLine(w)\n",
      "h = getFuntionLine(wt)\n",
      "#trainingSet['h'] = [getValue(h, x1, x2) for (x1, x2) in trainingSet.values]\n",
      "colors = np.where(tSet['g'] == -1, 'r', 'k' )\n",
      "plt.scatter(tSet['x1'], tSet['x2'], color= colors)\n",
      "plt.plot([-1,1], [h(-1),h(1)])\n",
      "plt.plot([-1,1], [g(-1),g(1)])\n",
      "plt.show()"
     ],
     "language": "python",
     "metadata": {},
     "outputs": [
      {
       "metadata": {},
       "output_type": "display_data",
       "png": "[encoded data removed]",
       "text": [
        "<matplotlib.figure.Figure at 0x10d1e7f90>"
       ]
      }
     ],
     "prompt_number": 135
    },
    {
     "cell_type": "code",
     "collapsed": false,
     "input": [
      "getArea(wt)"
     ],
     "language": "python",
     "metadata": {},
     "outputs": [
      {
       "metadata": {},
       "output_type": "pyout",
       "prompt_number": 104,
       "text": [
        "-5.9706074790775334"
       ]
      }
     ],
     "prompt_number": 104
    },
    {
     "cell_type": "code",
     "collapsed": false,
     "input": [
      "getArea(w)"
     ],
     "language": "python",
     "metadata": {},
     "outputs": [
      {
       "metadata": {},
       "output_type": "pyout",
       "prompt_number": 105,
       "text": [
        "-2.9211654764446111"
       ]
      }
     ],
     "prompt_number": 105
    },
    {
     "cell_type": "code",
     "collapsed": false,
     "input": [
      "areaOfDisagreement(wt, w)"
     ],
     "language": "python",
     "metadata": {},
     "outputs": [
      {
       "metadata": {},
       "output_type": "pyout",
       "prompt_number": 127,
       "text": [
        "0.012"
       ]
      }
     ],
     "prompt_number": 127
    },
    {
     "cell_type": "code",
     "collapsed": false,
     "input": [],
     "language": "python",
     "metadata": {},
     "outputs": []
    }
   ],
   "metadata": {}
  }
 ]
}