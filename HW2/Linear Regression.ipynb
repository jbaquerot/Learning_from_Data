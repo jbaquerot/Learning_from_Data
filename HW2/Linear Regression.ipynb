{
 "metadata": {
  "name": "",
  "signature": "sha256:b992c657aa4b788eee0d71db06138860a34df4865b95f4bbe7501efa5b83ad30"
 },
 "nbformat": 3,
 "nbformat_minor": 0,
 "worksheets": [
  {
   "cells": [
    {
     "cell_type": "code",
     "collapsed": false,
     "input": [
      "%pylab\n",
      "%matplotlib inline"
     ],
     "language": "python",
     "metadata": {},
     "outputs": [
      {
       "output_type": "stream",
       "stream": "stdout",
       "text": [
        "Using matplotlib backend: MacOSX\n",
        "Populating the interactive namespace from numpy and matplotlib\n"
       ]
      },
      {
       "output_type": "stream",
       "stream": "stderr",
       "text": [
        "WARNING: pylab import has clobbered these variables: ['f', 'random', 'colors']\n",
        "`%matplotlib` prevents importing * from pylab and numpy\n"
       ]
      }
     ],
     "prompt_number": 10
    },
    {
     "cell_type": "code",
     "collapsed": false,
     "input": [
      "import random\n",
      "import numpy as np\n",
      "import pandas as pd\n",
      "import matplotlib.pyplot as plt\n",
      "from numpy.linalg import inv"
     ],
     "language": "python",
     "metadata": {},
     "outputs": [],
     "prompt_number": 11
    },
    {
     "cell_type": "code",
     "collapsed": false,
     "input": [
      "def getOnePoint():\n",
      "    return np.array([1,random.uniform(-1,1), random.uniform(-1,1)])\n",
      "\n",
      "def getWeightVector(p1, p2):\n",
      "    w1 = p1[2]-p2[2]\n",
      "    w2 = -(p1[1]-p2[1])\n",
      "    w0 = p1[2]*(p1[1]-p2[1])-p1[1]*(p1[2]-p2[2])\n",
      "    return np.array([w0, w1, w2])\n",
      "\n",
      "def getFuntionLine(weightVector):\n",
      "    return lambda x : -(weightVector[1]*x+weightVector[0])/weightVector[2]\n",
      "\n",
      "def getVector(x1, x2):\n",
      "    l = x1.size\n",
      "    if l == 1:\n",
      "        return np.array([1, x1, x2])\n",
      "    else:\n",
      "        return np.array([np.ones(l), x1, x2])\n",
      "\n",
      "def getValue(w, x1, x2):\n",
      "    p1 = getVector(x1, x2)\n",
      "    return np.sign(w.dot(p1))"
     ],
     "language": "python",
     "metadata": {},
     "outputs": [],
     "prompt_number": 12
    },
    {
     "cell_type": "heading",
     "level": 4,
     "metadata": {},
     "source": [
      "Choosing a random line in the plane as your target function f"
     ]
    },
    {
     "cell_type": "code",
     "collapsed": false,
     "input": [
      "#select 2 random point to stablish the line objective g\n",
      "p1 = getOnePoint()\n",
      "p2 = getOnePoint()\n",
      "w = getWeightVector(p1,p2)\n",
      "#get the funtion that represent the line objective\n",
      "f = getFuntionLine(w)"
     ],
     "language": "python",
     "metadata": {},
     "outputs": [],
     "prompt_number": 13
    },
    {
     "cell_type": "heading",
     "level": 3,
     "metadata": {},
     "source": [
      "Exercice 5"
     ]
    },
    {
     "cell_type": "heading",
     "level": 4,
     "metadata": {},
     "source": [
      "Choose 100 inputs xn of the data set as random points (uniformly in X ), and evaluate the target function on each xn to get the corresponding output yn."
     ]
    },
    {
     "cell_type": "code",
     "collapsed": false,
     "input": [
      "N = 100\n",
      "trainingSet = pd.DataFrame()\n",
      "trainingSet['x0'] = np.ones(N)\n",
      "trainingSet['x1'] = np.random.uniform(low=-1, high=1, size=N )\n",
      "trainingSet['x2'] = np.random.uniform(low=-1, high=1, size=N )\n",
      "trainingSet['f'] = [getValue(w, x1, x2) for (x0, x1, x2) in trainingSet.values]\n"
     ],
     "language": "python",
     "metadata": {},
     "outputs": [],
     "prompt_number": 14
    },
    {
     "cell_type": "heading",
     "level": 4,
     "metadata": {},
     "source": [
      "Use Linear Regression to find g"
     ]
    },
    {
     "cell_type": "heading",
     "level": 5,
     "metadata": {},
     "source": [
      "from numpy.linalg import inv"
     ]
    },
    {
     "cell_type": "code",
     "collapsed": false,
     "input": [
      "X = np.array(trainingSet.reindex(columns = ['x0','x1','x2']))"
     ],
     "language": "python",
     "metadata": {},
     "outputs": [],
     "prompt_number": 15
    },
    {
     "cell_type": "code",
     "collapsed": false,
     "input": [
      "X_pseudo_inverse = inv(X.T.dot(X)).dot(X.T)"
     ],
     "language": "python",
     "metadata": {},
     "outputs": [],
     "prompt_number": 16
    },
    {
     "cell_type": "code",
     "collapsed": false,
     "input": [
      "y_hat = X_pseudo_inverse.dot(trainingSet['f'])"
     ],
     "language": "python",
     "metadata": {},
     "outputs": [],
     "prompt_number": 17
    },
    {
     "cell_type": "code",
     "collapsed": false,
     "input": [
      "g = getFuntionLine(y_hat)"
     ],
     "language": "python",
     "metadata": {},
     "outputs": [],
     "prompt_number": 18
    },
    {
     "cell_type": "heading",
     "level": 5,
     "metadata": {},
     "source": [
      "Plot the results"
     ]
    },
    {
     "cell_type": "code",
     "collapsed": false,
     "input": [
      "colors = np.where(trainingSet['f'] == -1, 'r', 'k' )\n",
      "plt.scatter(trainingSet['x1'], trainingSet['x2'], color= colors)\n",
      "plt.plot([-1,1], [f(-1),f(1)])\n",
      "plt.plot([-1,1], [g(-1),g(1)], linestyle = ':')\n",
      "plt.show()"
     ],
     "language": "python",
     "metadata": {},
     "outputs": [
      {
       "metadata": {},
       "output_type": "display_data",
       "png": "[encoded data removed]",
       "text": [
        "<matplotlib.figure.Figure at 0x10c9f1b10>"
       ]
      }
     ],
     "prompt_number": 19
    },
    {
     "cell_type": "code",
     "collapsed": false,
     "input": [],
     "language": "python",
     "metadata": {},
     "outputs": []
    },
    {
     "cell_type": "heading",
     "level": 5,
     "metadata": {},
     "source": [
      "Evaluate Ein"
     ]
    },
    {
     "cell_type": "code",
     "collapsed": false,
     "input": [
      "g_trainingSet = [getValue(y_hat, x1, x2) for [x1, x2, _, _] in trainingSet.values]"
     ],
     "language": "python",
     "metadata": {},
     "outputs": [],
     "prompt_number": 10
    },
    {
     "cell_type": "code",
     "collapsed": false,
     "input": [
      "1.0*sum(trainingSet['f'] != g_trainingSet)/N"
     ],
     "language": "python",
     "metadata": {},
     "outputs": [
      {
       "metadata": {},
       "output_type": "pyout",
       "prompt_number": 11,
       "text": [
        "0.52"
       ]
      }
     ],
     "prompt_number": 11
    },
    {
     "cell_type": "heading",
     "level": 4,
     "metadata": {},
     "source": [
      "Experiment with 1000 times"
     ]
    },
    {
     "cell_type": "code",
     "collapsed": false,
     "input": [
      "def createTargetFuntion():\n",
      "    #select 2 random point to stablish the line objective g\n",
      "    p1 = getOnePoint()\n",
      "    p2 = getOnePoint()\n",
      "    w = getWeightVector(p1,p2)\n",
      "    #get the funtion that represent the line objective\n",
      "    f = getFuntionLine(w)\n",
      "    return w\n",
      "\n",
      "def createTrainingSet(N):\n",
      "    trainingSet = pd.DataFrame()\n",
      "    trainingSet['x0'] = np.ones(N)\n",
      "    trainingSet['x1'] = np.random.uniform(low=-1, high=1, size=N )\n",
      "    trainingSet['x2'] = np.random.uniform(low=-1, high=1, size=N )\n",
      "    trainingSet['f'] = [getValue(w, x1, x2) for (x0, x1, x2) in trainingSet.values]\n",
      "    \n",
      "    return trainingSet\n",
      "\n",
      "def solveLinearRegresion(trainingSet):\n",
      "    X = np.array(trainingSet.reindex(columns = ['x0','x1','x2']))\n",
      "    X_pseudo_inverse = inv(X.T.dot(X)).dot(X.T)\n",
      "    y_hat = X_pseudo_inverse.dot(trainingSet['f'])\n",
      "    return y_hat\n",
      "\n",
      "def evaluateEin(trainingSet, y_hat, N):\n",
      "    g_trainingSet = [getValue(y_hat, x1, x2) for [x0, x1, x2, _] in trainingSet.values]\n",
      "    return 1.0*sum(trainingSet['f'] != g_trainingSet)/N\n",
      "    \n",
      "def experiment():\n",
      "    N = 100\n",
      "    w = createTargetFuntion()\n",
      "    tSet = createTrainingSet(N)\n",
      "    y_hat = solveLinearRegresion(tSet)\n",
      "    return evaluateEin(tSet, y_hat, N)\n",
      "    "
     ],
     "language": "python",
     "metadata": {},
     "outputs": [],
     "prompt_number": 12
    },
    {
     "cell_type": "code",
     "collapsed": false,
     "input": [
      "np.mean([experiment() for i in range(1000)])"
     ],
     "language": "python",
     "metadata": {},
     "outputs": [
      {
       "metadata": {},
       "output_type": "pyout",
       "prompt_number": 13,
       "text": [
        "0.033770000000000036"
       ]
      }
     ],
     "prompt_number": 13
    },
    {
     "cell_type": "heading",
     "level": 3,
     "metadata": {},
     "source": [
      "Exercice 6"
     ]
    },
    {
     "cell_type": "code",
     "collapsed": false,
     "input": [
      "def createTestSet(N):\n",
      "    testSet = pd.DataFrame()\n",
      "    testSet['x0'] = np.ones(N)\n",
      "    testSet['x1'] = np.random.uniform(low=-1, high=1, size=N )\n",
      "    testSet['x2'] = np.random.uniform(low=-1, high=1, size=N )\n",
      "    testSet['f'] = [getValue(w, x1, x2) for (x0, x1, x2) in testSet.values]\n",
      "    return trainingSet\n",
      "\n",
      "def evaluateEout(testSet, y_hat, N):\n",
      "    g_testSet = np.array([getValue(y_hat, x1, x2) for [x0, x1, x2, _] in testSet.values])\n",
      "    return 1.0*sum(testSet['f'] != g_testSet)/N\n"
     ],
     "language": "python",
     "metadata": {},
     "outputs": [],
     "prompt_number": 14
    },
    {
     "cell_type": "code",
     "collapsed": false,
     "input": [
      "def experiment6():\n",
      "    N = 100\n",
      "    NTest = 1000\n",
      "    w = createTargetFuntion()\n",
      "    tSet = createTrainingSet(N)\n",
      "    y_hat = solveLinearRegresion(tSet)\n",
      "    testSet = createTestSet(NTest)\n",
      "    return evaluateEout(tSet, y_hat, N)"
     ],
     "language": "python",
     "metadata": {},
     "outputs": [],
     "prompt_number": 15
    },
    {
     "cell_type": "code",
     "collapsed": false,
     "input": [
      "np.mean([experiment6() for i in range(1000)])"
     ],
     "language": "python",
     "metadata": {},
     "outputs": [
      {
       "metadata": {},
       "output_type": "pyout",
       "prompt_number": 16,
       "text": [
        "0.033199999999999986"
       ]
      }
     ],
     "prompt_number": 16
    },
    {
     "cell_type": "heading",
     "level": 3,
     "metadata": {},
     "source": [
      "Exercice 7"
     ]
    },
    {
     "cell_type": "code",
     "collapsed": false,
     "input": [
      "def runPLA(trainingSet, initialWeight):\n",
      "    # setting the start weight vector\n",
      "    wt = initialWeight\n",
      "    iteration = 0\n",
      "    while (iteration < 10000):\n",
      "       # Select missclassify point\n",
      "        missclassifyPoints = trainingSet[getValue(wt, trainingSet.x1, trainingSet.x2) != trainingSet.f]\n",
      "        if (not missclassifyPoints.empty):\n",
      "            # choosing a random missclassify point\n",
      "            randomMissClassPoint = np.random.randint(len(missclassifyPoints))\n",
      "            missclassifyPoint = missclassifyPoints[randomMissClassPoint:].values[0]\n",
      "        else:\n",
      "            break\n",
      "        \n",
      "        wt = wt + getVector(missclassifyPoint[1], missclassifyPoint[2])*missclassifyPoint[3]\n",
      "        iteration+= 1\n",
      "    return (wt, iteration)"
     ],
     "language": "python",
     "metadata": {},
     "outputs": [],
     "prompt_number": 85
    },
    {
     "cell_type": "code",
     "collapsed": false,
     "input": [
      "def experiment7():\n",
      "    N = 10\n",
      "    tSet = createTrainingSet(N)\n",
      "    y_hat = solveLinearRegresion(tSet)\n",
      "    wt, iteration = runPLA(tSet, y_hat)\n",
      "    return iteration"
     ],
     "language": "python",
     "metadata": {},
     "outputs": [],
     "prompt_number": 86
    },
    {
     "cell_type": "code",
     "collapsed": false,
     "input": [
      "np.mean([experiment7() for i in range(1000)])"
     ],
     "language": "python",
     "metadata": {},
     "outputs": [
      {
       "metadata": {},
       "output_type": "pyout",
       "prompt_number": 91,
       "text": [
        "4.1829999999999998"
       ]
      }
     ],
     "prompt_number": 91
    },
    {
     "cell_type": "heading",
     "level": 1,
     "metadata": {},
     "source": [
      "Aux"
     ]
    },
    {
     "cell_type": "code",
     "collapsed": false,
     "input": [
      "N3 = 100\n",
      "tSet3 = createTrainingSet(N3)\n",
      "wt3 = solveLinearRegresion(tSet3)\n",
      "missclassifyPoints3 = tSet3[getValue(wt3, tSet3.x1, tSet3.x2) != tSet3.f]"
     ],
     "language": "python",
     "metadata": {},
     "outputs": [],
     "prompt_number": 59
    },
    {
     "cell_type": "code",
     "collapsed": false,
     "input": [
      "randomMissClassPoint = np.random.randint(len(missclassifyPoints3))"
     ],
     "language": "python",
     "metadata": {},
     "outputs": [],
     "prompt_number": 77
    },
    {
     "cell_type": "code",
     "collapsed": false,
     "input": [
      "missclassifyPoints3[randomMissClassPoint:].values[0]"
     ],
     "language": "python",
     "metadata": {},
     "outputs": [
      {
       "metadata": {},
       "output_type": "pyout",
       "prompt_number": 81,
       "text": [
        "array([ 1.        ,  0.6056615 ,  0.97162435,  1.        ])"
       ]
      }
     ],
     "prompt_number": 81
    },
    {
     "cell_type": "code",
     "collapsed": false,
     "input": [],
     "language": "python",
     "metadata": {},
     "outputs": []
    }
   ],
   "metadata": {}
  }
 ]
}