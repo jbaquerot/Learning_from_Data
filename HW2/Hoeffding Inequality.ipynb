{
 "metadata": {
  "name": "",
  "signature": "sha256:3f01e1e2411fa92bf3dce2641c9b1cfb1508272042bb05b1532ce436fdd0bedb"
 },
 "nbformat": 3,
 "nbformat_minor": 0,
 "worksheets": [
  {
   "cells": [
    {
     "cell_type": "heading",
     "level": 1,
     "metadata": {},
     "source": [
      "Hoeffding Inequality"
     ]
    },
    {
     "cell_type": "markdown",
     "metadata": {},
     "source": [
      "Run a computer simulation for flipping 1,000 virtual fair coins. Flip each coin independently 10 times. Focus on 3 coins as follows: c1 is the first coin flipped, c(rand) is a coin chosen randomly from the 1,000, and cmin is the coin which had the minimum frequency of heads (pick the earlier one in case of a tie). Let \u03bd(1), \u03bd(rand), and \u03bd(min) be the fraction of heads obtained for the 3 respective coins out of the 10 tosses.\n",
      "\n",
      "Run the experiment 100,000 times in order to get a full distribution of \u03bd(1), \u03bd(rand), and \u03bd(min) (note that c(rand) and c(min) will change from run to run)."
     ]
    },
    {
     "cell_type": "markdown",
     "metadata": {},
     "source": [
      "The average value of \u03bd(min) is closest to: \n",
      "* [a] 0 \n",
      "* [b] 0.01\n",
      "* [c] 0.1 \n",
      "* [d] 0.5\n",
      "* [e] 0.67"
     ]
    },
    {
     "cell_type": "code",
     "collapsed": false,
     "input": [
      "import numpy as np\n",
      "import numpy.random as rnd"
     ],
     "language": "python",
     "metadata": {},
     "outputs": [],
     "prompt_number": 8
    },
    {
     "cell_type": "code",
     "collapsed": false,
     "input": [],
     "language": "python",
     "metadata": {},
     "outputs": [],
     "prompt_number": 24
    },
    {
     "cell_type": "code",
     "collapsed": false,
     "input": [
      "def executeExperiment():\n",
      "    experiment1 = np.array(np.random.randint(0, 2, 1000*10), dtype=np.int8).reshape((1000,10))\n",
      "    c1 = experiment1[0]\n",
      "    c_rand = experiment1[np.random.randint(0,1000)]\n",
      "    c_min = experiment1[experiment1.sum(axis=1)==experiment1.sum(axis=1).min()][0]\n",
      "    return (sum(c1)/10.0,sum(c_rand)/10.0,sum(c_min)/10.0)"
     ],
     "language": "python",
     "metadata": {},
     "outputs": [],
     "prompt_number": 116
    },
    {
     "cell_type": "code",
     "collapsed": false,
     "input": [
      "print executeExperiment()"
     ],
     "language": "python",
     "metadata": {},
     "outputs": [
      {
       "output_type": "stream",
       "stream": "stdout",
       "text": [
        "(0.59999999999999998, 0.69999999999999996, 0.10000000000000001)\n"
       ]
      }
     ],
     "prompt_number": 117
    },
    {
     "cell_type": "code",
     "collapsed": false,
     "input": [
      "experiment = np.array([executeExperiment() for i in range(100000) ], dtype=np.float32).T "
     ],
     "language": "python",
     "metadata": {},
     "outputs": [],
     "prompt_number": 118
    },
    {
     "cell_type": "code",
     "collapsed": false,
     "input": [
      "result = experiment.mean(axis=1)"
     ],
     "language": "python",
     "metadata": {},
     "outputs": [],
     "prompt_number": 120
    },
    {
     "cell_type": "code",
     "collapsed": false,
     "input": [
      "print \"the average of v1: \" + str(result[0])\n",
      "print \"the average of v_rand: \" + str(result[1])\n",
      "print \"the average of v_min: \" + str(result[2])"
     ],
     "language": "python",
     "metadata": {},
     "outputs": [
      {
       "output_type": "stream",
       "stream": "stdout",
       "text": [
        "the average of v1: 0.499421\n",
        "the average of v_rand: 0.499611\n",
        "the average of v_min: 0.0376562\n"
       ]
      }
     ],
     "prompt_number": 124
    },
    {
     "cell_type": "code",
     "collapsed": false,
     "input": [],
     "language": "python",
     "metadata": {},
     "outputs": []
    }
   ],
   "metadata": {}
  }
 ]
}