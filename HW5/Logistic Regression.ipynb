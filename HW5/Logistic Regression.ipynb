{
 "metadata": {
  "name": "",
  "signature": "sha256:c143fe6e100e1792ed6da5a92b0564add2fe2f9e94119aa137b33f151bbbed0d"
 },
 "nbformat": 3,
 "nbformat_minor": 0,
 "worksheets": [
  {
   "cells": [
    {
     "cell_type": "code",
     "collapsed": false,
     "input": [
      "%pylab\n",
      "%matplotlib inline\n"
     ],
     "language": "python",
     "metadata": {},
     "outputs": [
      {
       "output_type": "stream",
       "stream": "stdout",
       "text": [
        "Using matplotlib backend: MacOSX\n",
        "Populating the interactive namespace from numpy and matplotlib\n"
       ]
      },
      {
       "output_type": "stream",
       "stream": "stderr",
       "text": [
        "WARNING: pylab import has clobbered these variables: ['f', 'colors', 'gradient']\n",
        "`%matplotlib` prevents importing * from pylab and numpy\n"
       ]
      }
     ],
     "prompt_number": 167
    },
    {
     "cell_type": "code",
     "collapsed": false,
     "input": [
      "import pandas as pd"
     ],
     "language": "python",
     "metadata": {},
     "outputs": [],
     "prompt_number": 168
    },
    {
     "cell_type": "code",
     "collapsed": false,
     "input": [
      "def getOnePoint():\n",
      "    return np.array([1,random.uniform(-1,1), random.uniform(-1,1)])\n",
      "\n",
      "def getWeightVector(p1, p2):\n",
      "    w1 = p1[2]-p2[2]\n",
      "    w2 = -(p1[1]-p2[1])\n",
      "    w0 = p1[2]*(p1[1]-p2[1])-p1[1]*(p1[2]-p2[2])\n",
      "    return np.array([w0, w1, w2])\n",
      "\n",
      "def getFuntionLine(weightVector):\n",
      "    return lambda x : -(weightVector[1]*x+weightVector[0])/weightVector[2]\n",
      "\n",
      "def getVector(x1, x2):\n",
      "    l = x1.size\n",
      "    if l == 1:\n",
      "        return np.array([1, x1, x2])\n",
      "    else:\n",
      "        return np.array([np.ones(l), x1, x2])\n",
      "\n",
      "def getValue(w, x1, x2):\n",
      "    p1 = getVector(x1, x2)\n",
      "    return np.sign(w.dot(p1))"
     ],
     "language": "python",
     "metadata": {},
     "outputs": [],
     "prompt_number": 169
    },
    {
     "cell_type": "heading",
     "level": 3,
     "metadata": {},
     "source": [
      "Choosing a random line in the plane as your target function f"
     ]
    },
    {
     "cell_type": "code",
     "collapsed": false,
     "input": [
      "def getRandomLine():\n",
      "    #select 2 random point to stablish the line objective g\n",
      "    p1 = getOnePoint()\n",
      "    p2 = getOnePoint()\n",
      "    w = getWeightVector(p1,p2)\n",
      "    #get the funtion that represent the line objective\n",
      "    f = getFuntionLine(w)\n",
      "    return w, f"
     ],
     "language": "python",
     "metadata": {},
     "outputs": [],
     "prompt_number": 209
    },
    {
     "cell_type": "heading",
     "level": 3,
     "metadata": {},
     "source": [
      "Pick N = 100 training points at random from X, and evaluate the output yn for each of this point xn"
     ]
    },
    {
     "cell_type": "code",
     "collapsed": false,
     "input": [],
     "language": "python",
     "metadata": {},
     "outputs": []
    },
    {
     "cell_type": "code",
     "collapsed": false,
     "input": [
      "def getTrainingSet(N, w):\n",
      "    trainingSet = pd.DataFrame()\n",
      "    trainingSet['x0'] = np.ones(N)\n",
      "    trainingSet['x1'] = np.random.uniform(low=-1, high=1, size=N )\n",
      "    trainingSet['x2'] = np.random.uniform(low=-1, high=1, size=N )\n",
      "    trainingSet['f'] = [getValue(w, x1, x2) for (x0, x1, x2) in trainingSet.values]\n",
      "    return trainingSet"
     ],
     "language": "python",
     "metadata": {},
     "outputs": [],
     "prompt_number": 203
    },
    {
     "cell_type": "heading",
     "level": 3,
     "metadata": {},
     "source": [
      "Plot the points and funtion"
     ]
    },
    {
     "cell_type": "code",
     "collapsed": false,
     "input": [
      "N = 100\n",
      "w, f = getRandomLine()\n",
      "trainingSet = getTrainingSet(N,w)\n",
      "\n",
      "colors = np.where(trainingSet['f'] == -1, 'r', 'k' )\n",
      "plt.scatter(trainingSet['x1'], trainingSet['x2'], color= colors)\n",
      "plt.plot([-1,1], [f(-1),f(1)])\n",
      "plt.show()"
     ],
     "language": "python",
     "metadata": {},
     "outputs": [
      {
       "metadata": {},
       "output_type": "display_data",
       "png": "[encoded data removed]",
       "text": [
        "<matplotlib.figure.Figure at 0x10d21fcd0>"
       ]
      }
     ],
     "prompt_number": 212
    },
    {
     "cell_type": "heading",
     "level": 1,
     "metadata": {},
     "source": [
      "Problem 8"
     ]
    },
    {
     "cell_type": "code",
     "collapsed": false,
     "input": [
      "def getVectors(trainingSet):\n",
      "    xn = np.array([trainingSet['x0'], trainingSet['x1'], trainingSet['x2']]).T\n",
      "    yn = np.array([trainingSet['f']]).T\n",
      "    w = np.zeros(3)\n",
      "    return xn, yn, w"
     ],
     "language": "python",
     "metadata": {},
     "outputs": [],
     "prompt_number": 318
    },
    {
     "cell_type": "code",
     "collapsed": false,
     "input": [
      "def error(w, xn, yn):\n",
      "    return log(1+exp(-xn.dot(w).dot(yn)))"
     ],
     "language": "python",
     "metadata": {},
     "outputs": [],
     "prompt_number": 425
    },
    {
     "cell_type": "code",
     "collapsed": false,
     "input": [
      "xn.dot(w).dot(yn)"
     ],
     "language": "python",
     "metadata": {},
     "outputs": [
      {
       "metadata": {},
       "output_type": "pyout",
       "prompt_number": 424,
       "text": [
        "array([ 0.])"
       ]
      }
     ],
     "prompt_number": 424
    },
    {
     "cell_type": "code",
     "collapsed": false,
     "input": [
      "def gradient(w):\n",
      "    #print (yn*xn)/(1+exp(-yn*w*xn))\n",
      "    return (1.0/N) * sum((-yn*xn)/(1+exp(-yn*w*xn)), axis = 0 )"
     ],
     "language": "python",
     "metadata": {},
     "outputs": [],
     "prompt_number": 409
    },
    {
     "cell_type": "code",
     "collapsed": false,
     "input": [
      "def SGD(N, w, xn, yn):\n",
      "    return  (sum([(-yn[i]*xn[i])/(1+exp(yn[i]*w.T*xn[i])) for i in np.random.permutation(N)], axis = 0))\n",
      "    #return (-yn*xn)/(1+exp(-yn*w*xn))"
     ],
     "language": "python",
     "metadata": {},
     "outputs": [],
     "prompt_number": 410
    },
    {
     "cell_type": "code",
     "collapsed": false,
     "input": [
      "def runSGD(N, xn, yn, w, lr):\n",
      "    i = 0\n",
      "    while (True):\n",
      "        i = i + 1\n",
      "        #n = np.random.choice(N)\n",
      "        print \"error:\", error(w, xn, yn)\n",
      "        pDUV = SGD(N, w, xn, yn) \n",
      "        print \"SGD: \", pDUV\n",
      "        w1 = w - learningRate*pDUV/N\n",
      "        print w1\n",
      "        e = np.linalg.norm(w - w1)\n",
      "        print e \n",
      "        w = w1\n",
      "        if (e < 0.01):\n",
      "            break\n",
      "        if (i>20): \n",
      "            break\n",
      "    return w"
     ],
     "language": "python",
     "metadata": {},
     "outputs": [],
     "prompt_number": 433
    },
    {
     "cell_type": "code",
     "collapsed": false,
     "input": [
      "N = 100\n",
      "weigthVector, f = getRandomLine()\n",
      "trainingSet= getTrainingSet(N,weigthVector)\n",
      "xn, yn , w = getVectors(trainingSet)\n",
      "learningRate = 0.01\n",
      "\n",
      "w = runSGD(N, xn, yn, w, learningRate)\n",
      "print \"weightVector:\" , weigthVector\n",
      "print \"w:\", w\n",
      "g = getFuntionLine(w)\n",
      "\n",
      "colors = np.where(trainingSet['f'] == -1, 'r', 'k' )\n",
      "plt.scatter(trainingSet['x1'], trainingSet['x2'], color= colors)\n",
      "plt.plot([-1,1], [f(-1),f(1)])\n",
      "plt.plot([-1,1], [g(-1),g(1)])\n",
      "plt.show()"
     ],
     "language": "python",
     "metadata": {},
     "outputs": [
      {
       "output_type": "stream",
       "stream": "stdout",
       "text": [
        "error: [ 0.69314718]\n",
        "SGD:  [ -9.          10.19143005 -17.84209187]\n",
        "[ 0.0009     -0.00101914  0.00178421]\n",
        "0.00224322421708\n",
        "weightVector: [ 0.14576791 -0.5859014   1.24528682]\n",
        "w: [ 0.0009     -0.00101914  0.00178421]\n"
       ]
      },
      {
       "metadata": {},
       "output_type": "display_data",
       "png": "[encoded data removed]",
       "text": [
        "<matplotlib.figure.Figure at 0x10d530f90>"
       ]
      }
     ],
     "prompt_number": 434
    },
    {
     "cell_type": "code",
     "collapsed": false,
     "input": [
      "w"
     ],
     "language": "python",
     "metadata": {},
     "outputs": [
      {
       "metadata": {},
       "output_type": "pyout",
       "prompt_number": 348,
       "text": [
        "array([-0.00250747, -0.00250747, -0.00250747])"
       ]
      }
     ],
     "prompt_number": 348
    },
    {
     "cell_type": "code",
     "collapsed": false,
     "input": [
      "sqrt(0.0016**2+0.00075969**2+0.00204654**2)"
     ],
     "language": "python",
     "metadata": {},
     "outputs": [
      {
       "metadata": {},
       "output_type": "pyout",
       "prompt_number": 258,
       "text": [
        "0.0027065577525151757"
       ]
      }
     ],
     "prompt_number": 258
    },
    {
     "cell_type": "code",
     "collapsed": false,
     "input": [
      "w.shape"
     ],
     "language": "python",
     "metadata": {},
     "outputs": [
      {
       "metadata": {},
       "output_type": "pyout",
       "prompt_number": 126,
       "text": [
        "(1, 100)"
       ]
      }
     ],
     "prompt_number": 126
    },
    {
     "cell_type": "code",
     "collapsed": false,
     "input": [
      "yn.shape"
     ],
     "language": "python",
     "metadata": {},
     "outputs": [
      {
       "metadata": {},
       "output_type": "pyout",
       "prompt_number": 127,
       "text": [
        "(100,)"
       ]
      }
     ],
     "prompt_number": 127
    },
    {
     "cell_type": "code",
     "collapsed": false,
     "input": [],
     "language": "python",
     "metadata": {},
     "outputs": []
    }
   ],
   "metadata": {}
  }
 ]
}