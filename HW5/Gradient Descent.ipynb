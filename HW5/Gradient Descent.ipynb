{
 "metadata": {
  "name": "",
  "signature": "sha256:25ad0a1ee75d2073ead42d19281e61c3cca70b8510d7261437011991dd71a7a9"
 },
 "nbformat": 3,
 "nbformat_minor": 0,
 "worksheets": [
  {
   "cells": [
    {
     "cell_type": "code",
     "collapsed": false,
     "input": [
      "%pylab\n",
      "%matplotlib inline"
     ],
     "language": "python",
     "metadata": {},
     "outputs": [
      {
       "output_type": "stream",
       "stream": "stdout",
       "text": [
        "Using matplotlib backend: MacOSX\n",
        "Populating the interactive namespace from numpy and matplotlib\n"
       ]
      }
     ],
     "prompt_number": 1
    },
    {
     "cell_type": "heading",
     "level": 1,
     "metadata": {},
     "source": [
      "Problem 5"
     ]
    },
    {
     "cell_type": "code",
     "collapsed": false,
     "input": [
      "exp(1)"
     ],
     "language": "python",
     "metadata": {},
     "outputs": [
      {
       "metadata": {},
       "output_type": "pyout",
       "prompt_number": 2,
       "text": [
        "2.7182818284590451"
       ]
      }
     ],
     "prompt_number": 2
    },
    {
     "cell_type": "code",
     "collapsed": false,
     "input": [
      "def error(w):\n",
      "    u = w[0]\n",
      "    v = w[1]\n",
      "    return np.float128((u*exp(v)-2*v*exp(-u))**2)"
     ],
     "language": "python",
     "metadata": {},
     "outputs": [],
     "prompt_number": 3
    },
    {
     "cell_type": "code",
     "collapsed": false,
     "input": [
      "def aproxPartialDerivativeUV(w):\n",
      "    delta = 1e-10\n",
      "    wMasDelta1 = np.float128([w[0]+delta,w[1]])\n",
      "    wMasDelta2 = np.float128([w[0],w[1]+delta])\n",
      "    partialDerivativeU = (error(wMasDelta1)-error(w))/delta\n",
      "    partialDerivativeV = (error(wMasDelta2)-error(w))/delta\n",
      "    return np.float128([partialDerivativeU,partialDerivativeV])"
     ],
     "language": "python",
     "metadata": {},
     "outputs": [],
     "prompt_number": 4
    },
    {
     "cell_type": "code",
     "collapsed": false,
     "input": [
      "def partialDerivativeU(w):\n",
      "    u = w[0]\n",
      "    v = w[1]\n",
      "    return 2*(u*exp(v)-2*v*exp(-u))*(2*v*exp(-u)+exp(v))"
     ],
     "language": "python",
     "metadata": {},
     "outputs": [],
     "prompt_number": 12
    },
    {
     "cell_type": "code",
     "collapsed": false,
     "input": [
      "def partialDerivativeV(w):\n",
      "    u = w[0]\n",
      "    v = w[1]\n",
      "    return 2*(u*exp(v)-2*v*exp(-u))*(u*exp(v)-2*exp(-u))"
     ],
     "language": "python",
     "metadata": {},
     "outputs": [],
     "prompt_number": 13
    },
    {
     "cell_type": "code",
     "collapsed": false,
     "input": [
      "def partialDerivativeUV(w):\n",
      "    u = w[0]\n",
      "    v = w[1]\n",
      "    de_du = partialDerivativeU(w)\n",
      "    de_dv = partialDerivativeV(w)\n",
      "    return np.float128([de_du,de_dv])"
     ],
     "language": "python",
     "metadata": {},
     "outputs": [],
     "prompt_number": 14
    },
    {
     "cell_type": "code",
     "collapsed": false,
     "input": [
      "w = np.float128([1,1])\n",
      "print aproxPartialDerivativeUV(w)\n",
      "print partialDerivativeUV(w)"
     ],
     "language": "python",
     "metadata": {},
     "outputs": [
      {
       "output_type": "stream",
       "stream": "stdout",
       "text": [
        "[ 13.69543  7.8607945]\n",
        "[ 13.69543  7.8607945]\n"
       ]
      }
     ],
     "prompt_number": 15
    },
    {
     "cell_type": "code",
     "collapsed": false,
     "input": [
      "w = np.float128([1,1])\n",
      "learningRate = 0.1\n",
      "i = 0\n",
      "while (error(w)>1e-14):\n",
      "    #print error(w)\n",
      "    i = i + 1\n",
      "    pDUV = - partialDerivativeUV(w) \n",
      "    #pNorm = sqrt(pDUV[0]**2 + pDUV[1]**2)\n",
      "    #learningRate = learningRate*pNorm\n",
      "    #print pDUV \n",
      "    w = w + learningRate*pDUV  \n",
      "    if (i>20): \n",
      "        break\n",
      "print i\n",
      "print w"
     ],
     "language": "python",
     "metadata": {},
     "outputs": [
      {
       "output_type": "stream",
       "stream": "stdout",
       "text": [
        "10\n",
        "[ 0.04473629  0.023958714]\n"
       ]
      }
     ],
     "prompt_number": 16
    },
    {
     "cell_type": "heading",
     "level": 1,
     "metadata": {},
     "source": [
      "Problem 7"
     ]
    },
    {
     "cell_type": "code",
     "collapsed": false,
     "input": [
      "w = np.float128([1,1])\n",
      "learningRate = 0.1\n",
      "i = 0\n",
      "while (error(w)>1e-14):\n",
      "    print error(w)\n",
      "    i = i + 1\n",
      "    pDU = - partialDerivativeU(w)\n",
      "    w1 = w + learningRate*pDU  \n",
      "    pDV = - partialDerivativeV(w1)\n",
      "    w = w1 + learningRate*pDV \n",
      "    if (i>=15): \n",
      "        break\n",
      "        \n",
      "print i"
     ],
     "language": "python",
     "metadata": {},
     "outputs": [
      {
       "output_type": "stream",
       "stream": "stdout",
       "text": [
        "3.93039723188\n",
        "0.00688166835764\n",
        "0.00681770321685\n",
        "0.00673967141225\n",
        "0.00664436114969\n",
        "0.00652791109143\n",
        "0.00638575856445\n",
        "0.00621264382336\n",
        "0.00600271789027\n",
        "0.00574982142644\n",
        "0.00544802003636\n",
        "0.00509248502622\n",
        "0.00468077518861\n",
        "0.0042144724041\n",
        "0.00370092358132\n",
        "15\n"
       ]
      }
     ],
     "prompt_number": 22
    },
    {
     "cell_type": "code",
     "collapsed": false,
     "input": [],
     "language": "python",
     "metadata": {},
     "outputs": []
    }
   ],
   "metadata": {}
  }
 ]
}