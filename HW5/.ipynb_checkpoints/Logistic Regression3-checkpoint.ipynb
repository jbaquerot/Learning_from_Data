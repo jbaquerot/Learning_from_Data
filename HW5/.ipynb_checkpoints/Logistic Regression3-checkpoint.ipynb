{
 "metadata": {
  "name": "",
  "signature": "sha256:79beff1ec3248137fac5db4f917ba54bf634df89a804a52f9adcc31fd2b55686"
 },
 "nbformat": 3,
 "nbformat_minor": 0,
 "worksheets": [
  {
   "cells": [
    {
     "cell_type": "code",
     "collapsed": false,
     "input": [
      "%pylab\n",
      "%matplotlib inline\n"
     ],
     "language": "python",
     "metadata": {},
     "outputs": [
      {
       "output_type": "stream",
       "stream": "stdout",
       "text": [
        "Using matplotlib backend: module://IPython.kernel.zmq.pylab.backend_inline\n",
        "Populating the interactive namespace from numpy and matplotlib\n"
       ]
      }
     ],
     "prompt_number": 1
    },
    {
     "cell_type": "code",
     "collapsed": false,
     "input": [
      "import pandas as pd"
     ],
     "language": "python",
     "metadata": {},
     "outputs": [],
     "prompt_number": 2
    },
    {
     "cell_type": "code",
     "collapsed": false,
     "input": [
      "def getOnePoint():\n",
      "    return np.array([1,random.uniform(-1,1), random.uniform(-1,1)])\n",
      "\n",
      "def getWeightVector(p1, p2):\n",
      "    w1 = p1[2]-p2[2]\n",
      "    w2 = -(p1[1]-p2[1])\n",
      "    w0 = p1[2]*(p1[1]-p2[1])-p1[1]*(p1[2]-p2[2])\n",
      "    return np.array([w0, w1, w2])\n",
      "\n",
      "def getFuntionLine(weightVector):\n",
      "    return lambda x : -(weightVector[1]*x+weightVector[0])/weightVector[2]\n",
      "\n",
      "def getVector(x1, x2):\n",
      "    l = x1.size\n",
      "    if l == 1:\n",
      "        return np.array([1, x1, x2])\n",
      "    else:\n",
      "        return np.array([np.ones(l), x1, x2])\n",
      "\n",
      "def getValue(w, x1, x2):\n",
      "    p1 = getVector(x1, x2)\n",
      "    return np.sign(w.dot(p1))\n",
      "\n",
      "def getLogValue(w, x1, x2):\n",
      "    p1 = getVector(x1, x2)\n",
      "    aux = w.dot(p1)\n",
      "    theta=exp(aux)/(exp(aux)+1)\n",
      "    #print aux\n",
      "    #return np.sign(theta)\n",
      "    return np.sign(theta-0.5)"
     ],
     "language": "python",
     "metadata": {},
     "outputs": [],
     "prompt_number": 60
    },
    {
     "cell_type": "heading",
     "level": 3,
     "metadata": {},
     "source": [
      "Choosing a random line in the plane as your target function f"
     ]
    },
    {
     "cell_type": "code",
     "collapsed": false,
     "input": [
      "def getRandomLine():\n",
      "    #select 2 random point to stablish the line objective g\n",
      "    p1 = getOnePoint()\n",
      "    p2 = getOnePoint()\n",
      "    w = getWeightVector(p1,p2)\n",
      "    #get the funtion that represent the line objective\n",
      "    f = getFuntionLine(w)\n",
      "    return w, f"
     ],
     "language": "python",
     "metadata": {},
     "outputs": [],
     "prompt_number": 20
    },
    {
     "cell_type": "heading",
     "level": 3,
     "metadata": {},
     "source": [
      "Pick N = 100 training points at random from X, and evaluate the output yn for each of this point xn"
     ]
    },
    {
     "cell_type": "code",
     "collapsed": false,
     "input": [],
     "language": "python",
     "metadata": {},
     "outputs": [],
     "prompt_number": 20
    },
    {
     "cell_type": "code",
     "collapsed": false,
     "input": [
      "def getTrainingSet(N, w):\n",
      "    trainingSet = pd.DataFrame()\n",
      "    trainingSet['x0'] = np.ones(N)\n",
      "    trainingSet['x1'] = np.random.uniform(low=-1, high=1, size=N )\n",
      "    trainingSet['x2'] = np.random.uniform(low=-1, high=1, size=N )\n",
      "    trainingSet['f'] = [getValue(w, x1, x2) for (x0, x1, x2) in trainingSet.values]\n",
      "    return trainingSet"
     ],
     "language": "python",
     "metadata": {},
     "outputs": [],
     "prompt_number": 21
    },
    {
     "cell_type": "heading",
     "level": 3,
     "metadata": {},
     "source": [
      "Plot the points and funtion"
     ]
    },
    {
     "cell_type": "code",
     "collapsed": false,
     "input": [
      "N = 100\n",
      "w, f = getRandomLine()\n",
      "trainingSet = getTrainingSet(N,w)\n",
      "\n",
      "colors = np.where(trainingSet['f'] == -1, 'r', 'k' )\n",
      "plt.scatter(trainingSet['x1'], trainingSet['x2'], color= colors)\n",
      "plt.plot([-1,1], [f(-1),f(1)])\n",
      "plt.show()"
     ],
     "language": "python",
     "metadata": {},
     "outputs": [
      {
       "metadata": {},
       "output_type": "display_data",
       "png": "[encoded data removed]",
       "text": [
        "<matplotlib.figure.Figure at 0xba80550>"
       ]
      }
     ],
     "prompt_number": 22
    },
    {
     "cell_type": "heading",
     "level": 1,
     "metadata": {},
     "source": [
      "Problem 8"
     ]
    },
    {
     "cell_type": "code",
     "collapsed": false,
     "input": [
      "def getVectors(trainingSet):\n",
      "    xn = np.array([trainingSet['x0'], trainingSet['x1'], trainingSet['x2']]).T\n",
      "    yn = np.array([trainingSet['f']]).T\n",
      "    w = np.zeros(3)\n",
      "    return xn, yn, w"
     ],
     "language": "python",
     "metadata": {},
     "outputs": [],
     "prompt_number": 100
    },
    {
     "cell_type": "code",
     "collapsed": false,
     "input": [
      "def error(w, xn, yn):\n",
      "    return log(1+exp(-xn.dot(w).dot(yn)))"
     ],
     "language": "python",
     "metadata": {},
     "outputs": [],
     "prompt_number": 101
    },
    {
     "cell_type": "code",
     "collapsed": false,
     "input": [
      "N = 100\n",
      "weigthVector, f = getRandomLine()\n",
      "trainingSet= getTrainingSet(N,weigthVector)\n",
      "xn, yn , w = getVectors(trainingSet)"
     ],
     "language": "python",
     "metadata": {},
     "outputs": [],
     "prompt_number": 102
    },
    {
     "cell_type": "code",
     "collapsed": false,
     "input": [
      "print \"w:\" , w.shape\n",
      "print \"xn: \", xn.shape\n",
      "print \"yn: \", yn.shape"
     ],
     "language": "python",
     "metadata": {},
     "outputs": [
      {
       "output_type": "stream",
       "stream": "stdout",
       "text": [
        "w: (3L,)\n",
        "xn:  (100L, 3L)\n",
        "yn:  (100L, 1L)\n"
       ]
      }
     ],
     "prompt_number": 103
    },
    {
     "cell_type": "code",
     "collapsed": false,
     "input": [
      "w.T.dot(xn)"
     ],
     "language": "python",
     "metadata": {},
     "outputs": [
      {
       "ename": "ValueError",
       "evalue": "matrices are not aligned",
       "output_type": "pyerr",
       "traceback": [
        "\u001b[1;31m---------------------------------------------------------------------------\u001b[0m\n\u001b[1;31mValueError\u001b[0m                                Traceback (most recent call last)",
        "\u001b[1;32m<ipython-input-104-bd101056d5d5>\u001b[0m in \u001b[0;36m<module>\u001b[1;34m()\u001b[0m\n\u001b[1;32m----> 1\u001b[1;33m \u001b[0mw\u001b[0m\u001b[1;33m.\u001b[0m\u001b[0mT\u001b[0m\u001b[1;33m.\u001b[0m\u001b[0mdot\u001b[0m\u001b[1;33m(\u001b[0m\u001b[0mxn\u001b[0m\u001b[1;33m)\u001b[0m\u001b[1;33m\u001b[0m\u001b[0m\n\u001b[0m",
        "\u001b[1;31mValueError\u001b[0m: matrices are not aligned"
       ]
      }
     ],
     "prompt_number": 104
    },
    {
     "cell_type": "code",
     "collapsed": false,
     "input": [
      "def gradient(w):\n",
      "    #print (yn*xn)/(1+exp(-yn*w*xn))\n",
      "    return (1.0/N) * sum((-yn*xn)/(1+exp(-yn*w*xn)), axis = 0 )"
     ],
     "language": "python",
     "metadata": {},
     "outputs": [],
     "prompt_number": 105
    },
    {
     "cell_type": "code",
     "collapsed": false,
     "input": [
      "v = [(yn[i]*xn[i])/(1+exp(yn[i]*w.T*xn[i])) for i in np.random.permutation(N)]"
     ],
     "language": "python",
     "metadata": {},
     "outputs": [],
     "prompt_number": 106
    },
    {
     "cell_type": "code",
     "collapsed": false,
     "input": [
      "-sum(v, axis=0)/N"
     ],
     "language": "python",
     "metadata": {},
     "outputs": [
      {
       "metadata": {},
       "output_type": "pyout",
       "prompt_number": 107,
       "text": [
        "array([-0.24      , -0.11445175, -0.12173715])"
       ]
      }
     ],
     "prompt_number": 107
    },
    {
     "cell_type": "code",
     "collapsed": false,
     "input": [
      "def SGD(N, w, xn, yn):\n",
      "    v = [(yn[i]*xn[i])/(1+exp(yn[i]*w.T*xn[i])) for i in np.random.permutation(N)]\n",
      "    return -sum(v, axis=0)/N\n",
      "    #return np.array([- mean(np.array(v)[:,0]), -mean(np.array(v)[:,1]), -mean(np.array(v)[:,2])])\n",
      "    #return  (-1.0/N)*(sum([(yn[i]*xn[i])/(1+exp(yn[i]*w.T*xn[i])) for i in np.random.permutation(N)], axis = 0))\n",
      "    #return (-yn*xn)/(1+exp(-yn*w*xn))"
     ],
     "language": "python",
     "metadata": {},
     "outputs": [],
     "prompt_number": 108
    },
    {
     "cell_type": "code",
     "collapsed": false,
     "input": [
      "def runSGD(N, xn, yn, w, lr):\n",
      "    i = 0\n",
      "    while (True):\n",
      "        i = i + 1\n",
      "        #n = np.random.choice(N)\n",
      "        #print \"error:\", error(w, xn, yn)\n",
      "        pDUV = SGD(N, w, xn, yn) \n",
      "        print \"SGD: \", pDUV\n",
      "        #print \"learningRate*pDUV: \", learningRate*pDUV\n",
      "        w1 = w - learningRate*pDUV\n",
      "        #print \"w1: \" , w1\n",
      "        e = np.linalg.norm(w - w1)\n",
      "        print \"e: \" , e \n",
      "        w = w1\n",
      "        if (e < 0.01):\n",
      "            break\n",
      "        if (i>20): \n",
      "            break\n",
      "    return w"
     ],
     "language": "python",
     "metadata": {},
     "outputs": [],
     "prompt_number": 114
    },
    {
     "cell_type": "code",
     "collapsed": false,
     "input": [
      "N = 100\n",
      "weigthVector, f = getRandomLine()\n",
      "trainingSet= getTrainingSet(N,weigthVector)\n",
      "xn, yn , w = getVectors(trainingSet)\n",
      "learningRate = 0.01\n",
      "\n",
      "w = runSGD(N, xn, yn, w, learningRate)\n",
      "print \"weightVector:\" , weigthVector\n",
      "print \"w:\", w\n",
      "\n",
      "g = getFuntionLine(w)\n",
      "\n",
      "colors = np.where(trainingSet['f'] == -1, 'r', 'k' )\n",
      "plt.scatter(trainingSet['x1'], trainingSet['x2'], color= colors)\n",
      "plt.plot([-1,1], [f(-1),f(1)])\n",
      "plt.plot([-1,1], [g(-1),g(1)])\n",
      "plt.show()"
     ],
     "language": "python",
     "metadata": {},
     "outputs": [
      {
       "output_type": "stream",
       "stream": "stdout",
       "text": [
        "SGD:  [ 0.16       -0.19433618 -0.05241916]\n",
        "e:  0.00257127050255\n",
        "weightVector: [-0.27308429  0.64771555  0.29867546]\n",
        "w: [-0.0016      0.00194336  0.00052419]\n"
       ]
      },
      {
       "metadata": {},
       "output_type": "display_data",
       "png": "[encoded data removed]",
       "text": [
        "<matplotlib.figure.Figure at 0xba837f0>"
       ]
      }
     ],
     "prompt_number": 115
    },
    {
     "cell_type": "code",
     "collapsed": false,
     "input": [
      "sum([getLogValue(w, x1, x2) for (x0, x1, x2, f) in trainingSet.values]==trainingSet['f'])"
     ],
     "language": "python",
     "metadata": {},
     "outputs": [
      {
       "metadata": {},
       "output_type": "pyout",
       "prompt_number": 111,
       "text": [
        "71"
       ]
      }
     ],
     "prompt_number": 111
    },
    {
     "cell_type": "code",
     "collapsed": false,
     "input": [
      "sqrt(0.0016**2+0.00075969**2+0.00204654**2)"
     ],
     "language": "python",
     "metadata": {},
     "outputs": [
      {
       "metadata": {},
       "output_type": "pyout",
       "prompt_number": 258,
       "text": [
        "0.0027065577525151757"
       ]
      }
     ],
     "prompt_number": 258
    },
    {
     "cell_type": "code",
     "collapsed": false,
     "input": [
      "w.shape"
     ],
     "language": "python",
     "metadata": {},
     "outputs": [
      {
       "metadata": {},
       "output_type": "pyout",
       "prompt_number": 126,
       "text": [
        "(1, 100)"
       ]
      }
     ],
     "prompt_number": 126
    },
    {
     "cell_type": "code",
     "collapsed": false,
     "input": [
      "yn.shape"
     ],
     "language": "python",
     "metadata": {},
     "outputs": [
      {
       "metadata": {},
       "output_type": "pyout",
       "prompt_number": 127,
       "text": [
        "(100,)"
       ]
      }
     ],
     "prompt_number": 127
    },
    {
     "cell_type": "code",
     "collapsed": false,
     "input": [],
     "language": "python",
     "metadata": {},
     "outputs": []
    }
   ],
   "metadata": {}
  }
 ]
}