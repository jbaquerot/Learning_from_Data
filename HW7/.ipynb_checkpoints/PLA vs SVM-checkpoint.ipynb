{
 "metadata": {
  "name": "",
  "signature": "sha256:1c61d0635b020edcea3684d682580a81206f44b44c57530b6c49bbddcffab603"
 },
 "nbformat": 3,
 "nbformat_minor": 0,
 "worksheets": [
  {
   "cells": [
    {
     "cell_type": "code",
     "collapsed": false,
     "input": [
      "%pylab\n",
      "%matplotlib inline\n",
      "import pandas as pd"
     ],
     "language": "python",
     "metadata": {},
     "outputs": [
      {
       "output_type": "stream",
       "stream": "stdout",
       "text": [
        "Using matplotlib backend: MacOSX\n",
        "Populating the interactive namespace from numpy and matplotlib\n"
       ]
      }
     ],
     "prompt_number": 1
    },
    {
     "cell_type": "code",
     "collapsed": false,
     "input": [
      "def getOnePoint():\n",
      "    return np.array([1,random.uniform(-1,1), random.uniform(-1,1)])\n",
      "\n",
      "def getWeightVector(p1, p2):\n",
      "    w1 = p1[2]-p2[2]\n",
      "    w2 = -(p1[1]-p2[1])\n",
      "    w0 = p1[2]*(p1[1]-p2[1])-p1[1]*(p1[2]-p2[2])\n",
      "    return np.array([w0, w1, w2])\n",
      "\n",
      "def getFuntionLine(weightVector):\n",
      "    return lambda x : -(weightVector[1]*x+weightVector[0])/weightVector[2]\n",
      "\n",
      "def getVector(x1, x2):\n",
      "    l = x1.size\n",
      "    if l == 1:\n",
      "        return np.array([1, x1, x2])\n",
      "    else:\n",
      "        return np.array([np.ones(l), x1, x2])\n",
      "    \n",
      "def getValue(w, x1, x2):\n",
      "    p1 = getVector(x1, x2)\n",
      "    return sign(w.dot(p1))"
     ],
     "language": "python",
     "metadata": {},
     "outputs": [],
     "prompt_number": 2
    },
    {
     "cell_type": "heading",
     "level": 1,
     "metadata": {},
     "source": [
      "Setting up"
     ]
    },
    {
     "cell_type": "heading",
     "level": 2,
     "metadata": {},
     "source": [
      "Target Fuction"
     ]
    },
    {
     "cell_type": "code",
     "collapsed": false,
     "input": [
      "#select 2 random point to stablish the line objective g\n",
      "p1 = getOnePoint()\n",
      "p2 = getOnePoint()\n",
      "w = getWeightVector(p1,p2)\n",
      "#get the funtion that represent the line objective\n",
      "g = getFuntionLine(w)"
     ],
     "language": "python",
     "metadata": {},
     "outputs": [],
     "prompt_number": 3
    },
    {
     "cell_type": "heading",
     "level": 3,
     "metadata": {},
     "source": [
      "Generating Points"
     ]
    },
    {
     "cell_type": "code",
     "collapsed": false,
     "input": [
      "def createTrainingSet(nPoints):\n",
      "    p1 = getOnePoint()\n",
      "    p2 = getOnePoint()\n",
      "    #get the Weight Vector from the line that pass throw p1 and p2\n",
      "    w = getWeightVector(p1,p2)\n",
      "    #get the funtion that represent the line objective\n",
      "    g = getFuntionLine(w)\n",
      "    # Numbers of points\n",
      "    N = nPoints\n",
      "    #Set the trainig set\n",
      "    trainingSet = pd.DataFrame()\n",
      "    trainingSet['x0'] = np.ones(nPoints)\n",
      "    trainingSet['x1'] = np.random.uniform(low=-1, high=1, size=N )\n",
      "    trainingSet['x2'] = np.random.uniform(low=-1, high=1, size=N )\n",
      "    trainingSet['g'] = [getValue(w, x1, x2) for (x0, x1, x2) in trainingSet.values]\n",
      "    return (w, trainingSet)"
     ],
     "language": "python",
     "metadata": {},
     "outputs": [],
     "prompt_number": 98
    },
    {
     "cell_type": "code",
     "collapsed": false,
     "input": [
      "def createTwoSideTS(nPoints):\n",
      "    weightVector, trainingSet = createTrainingSet(nPoints)\n",
      "    while (all(trainingSet['g']==trainingSet['g'][0])):\n",
      "        weightVector, trainingSet = createTrainingSet(nPoints)\n",
      "    return weightVector, trainingSet"
     ],
     "language": "python",
     "metadata": {},
     "outputs": [],
     "prompt_number": 95
    },
    {
     "cell_type": "heading",
     "level": 2,
     "metadata": {},
     "source": [
      "Plotting the points and target fuction"
     ]
    },
    {
     "cell_type": "code",
     "collapsed": false,
     "input": [
      "def plotPoints(tSet, weightVector, axis = None):\n",
      "    X = tSet.get(['x0','x1','x2']).values\n",
      "    Y = tSet.get(['g']).values.flatten()\n",
      "    if axis == None:\n",
      "        #colors = np.where(tSet['g'] == -1, 'r', 'k' )\n",
      "        colors = np.where(np.sign(X.dot(weightVector)) == 1, 'r', 'k' )\n",
      "        plt.scatter(tSet['x1'], tSet['x2'], color= colors)\n",
      "        g = getFuntionLine(weightVector)\n",
      "        plt.plot([-1,1], [g(-1),g(1)])\n",
      "        plt.show()\n",
      "    else:\n",
      "        #colors = np.where(tSet['g'] == -1, 'r', 'k' )\n",
      "        colors = np.where(np.sign(X.dot(weightVector)) == 1, 'r', 'k' )\n",
      "        axis.scatter(tSet['x1'], tSet['x2'], color= colors)\n",
      "        g = getFuntionLine(weightVector)\n",
      "        axis.plot([-1,1], [g(-1),g(1)])\n",
      "        #axis.show()"
     ],
     "language": "python",
     "metadata": {},
     "outputs": [],
     "prompt_number": 142
    },
    {
     "cell_type": "heading",
     "level": 2,
     "metadata": {},
     "source": [
      "Random points with values according the Target Function"
     ]
    },
    {
     "cell_type": "code",
     "collapsed": false,
     "input": [
      "N = 10\n",
      "w, trainingSet = createTwoSideTS(N)\n",
      "plotPoints(trainingSet, w)"
     ],
     "language": "python",
     "metadata": {},
     "outputs": [
      {
       "metadata": {},
       "output_type": "display_data",
       "png": "[encoded data removed]",
       "text": [
        "<matplotlib.figure.Figure at 0x10dc0b950>"
       ]
      }
     ],
     "prompt_number": 99
    },
    {
     "cell_type": "heading",
     "level": 2,
     "metadata": {},
     "source": [
      "PLA"
     ]
    },
    {
     "cell_type": "code",
     "collapsed": false,
     "input": [
      "def runPLA(trainingSet):\n",
      "    # setting the start weight vector\n",
      "    wt = np.array([1,0,0])\n",
      "    iteration = 0\n",
      "    while (iteration < 10000):\n",
      "        iteration+= 1\n",
      "        # Select missclassify point and convert to array\n",
      "        missclassifyPoints = trainingSet[getValue(wt, trainingSet.x1, trainingSet.x2) != trainingSet.g].values\n",
      "        numberOfMissclassifyPoints = len(missclassifyPoints)\n",
      "        if (numberOfMissclassifyPoints > 0):\n",
      "            randomSelector = np.random.randint(0, numberOfMissclassifyPoints)\n",
      "            missclassifyPoint = missclassifyPoints[randomSelector]\n",
      "        else:\n",
      "            break\n",
      "        wt = wt + getVector(missclassifyPoint[0], missclassifyPoint[1])*missclassifyPoint[2]\n",
      "    return (wt, iteration)"
     ],
     "language": "python",
     "metadata": {},
     "outputs": [],
     "prompt_number": 100
    },
    {
     "cell_type": "heading",
     "level": 2,
     "metadata": {},
     "source": [
      "SVM"
     ]
    },
    {
     "cell_type": "code",
     "collapsed": false,
     "input": [
      "from cvxopt import matrix\n",
      "from cvxopt import solvers\n",
      "solvers.options['show_progress'] = False"
     ],
     "language": "python",
     "metadata": {},
     "outputs": [],
     "prompt_number": 101
    },
    {
     "cell_type": "code",
     "collapsed": false,
     "input": [
      "def SVM(X, Y):\n",
      "    dim = X.shape[1]+1\n",
      "    rows = X.shape[0]\n",
      "    Q = np.identity(dim)\n",
      "    Q[0,0]=0\n",
      "    p = np.zeros((1,dim))\n",
      "    A = np.append(Y,Y*X, axis=1)\n",
      "    c = np.ones((1,rows))\n",
      "    \n",
      "    P = matrix(Q, tc='d')\n",
      "    q = matrix(p.T, tc = 'd')\n",
      "    G = matrix(-A, tc = 'd')\n",
      "    h = matrix(-c.T, tc = 'd')\n",
      "    \n",
      "    sol = solvers.qp(P, q, G, h)\n",
      "    return np.array(sol['x']).flatten(), np.array(sol['z']).flatten()\n",
      "    "
     ],
     "language": "python",
     "metadata": {},
     "outputs": [],
     "prompt_number": 102
    },
    {
     "cell_type": "code",
     "collapsed": false,
     "input": [
      "def runSVM(trainingSet):\n",
      "    X = trainingSet.get(['x1','x2']).values\n",
      "    Y = trainingSet.get(['g']).values\n",
      "    return SVM(X,Y)"
     ],
     "language": "python",
     "metadata": {},
     "outputs": [],
     "prompt_number": 103
    },
    {
     "cell_type": "heading",
     "level": 3,
     "metadata": {},
     "source": [
      "Messure the disagreement"
     ]
    },
    {
     "cell_type": "code",
     "collapsed": false,
     "input": [
      "def performance(trainingSet, w):\n",
      "    X = trainingSet.get(['x0','x1','x2']).values\n",
      "    Y = trainingSet.get(['g']).values.flatten()\n",
      "    nPoint = len(trainingSet)\n",
      "    nCorrect = sum(np.sign(X.dot(w)) == Y)\n",
      "    return 1.0*nCorrect/nPoint\n",
      "    "
     ],
     "language": "python",
     "metadata": {},
     "outputs": [],
     "prompt_number": 120
    },
    {
     "cell_type": "heading",
     "level": 3,
     "metadata": {},
     "source": [
      "Run Experiments"
     ]
    },
    {
     "cell_type": "code",
     "collapsed": false,
     "input": [
      "w, tSet = createTwoSideTS(10)\n",
      "wtPLA, itera = runPLA(tSet)\n",
      "wtSVM, nSVM = runSVM(tSet)\n",
      "\n",
      "#print sum(np.sign(tSet.dot(wtPLA)) == tSet['g'])\n",
      "print performance(tSet,wtPLA)\n",
      "#print sum(np.sign(tSet.dot(wtSVM)) == tSet['g'])\n",
      "print performance(tSet,wtSVM)\n",
      "\n",
      "f, (ax1, ax2, ax3) = plt.subplots(1,3, sharex=True, sharey=True)\n",
      "plotPoints(tSet, w, ax1)\n",
      "plotPoints(tSet, wtPLA, ax2)\n",
      "plotPoints(tSet, wtSVM, ax3)\n"
     ],
     "language": "python",
     "metadata": {},
     "outputs": [
      {
       "output_type": "stream",
       "stream": "stdout",
       "text": [
        "0.4\n",
        "1.0\n"
       ]
      },
      {
       "metadata": {},
       "output_type": "display_data",
       "png": "[encoded data removed]",
       "text": [
        "<matplotlib.figure.Figure at 0x10063ed10>"
       ]
      }
     ],
     "prompt_number": 144
    },
    {
     "cell_type": "code",
     "collapsed": false,
     "input": [],
     "language": "python",
     "metadata": {},
     "outputs": [],
     "prompt_number": 110
    },
    {
     "cell_type": "heading",
     "level": 1,
     "metadata": {},
     "source": [
      "Problem 8"
     ]
    },
    {
     "cell_type": "code",
     "collapsed": false,
     "input": [
      "def runExperiment8():\n",
      "    w, tSet = createTwoSideTS(10)\n",
      "    wtPLA, itera = runPLA(tSet)\n",
      "    wtSVM, nSVM = runSVM(tSet)\n",
      "    return performance(tSet,wtSVM) >= performance(tSet, wtPLA)"
     ],
     "language": "python",
     "metadata": {},
     "outputs": [],
     "prompt_number": 14
    },
    {
     "cell_type": "code",
     "collapsed": false,
     "input": [
      "mean([runExperiment8() for i in range(1000)])"
     ],
     "language": "python",
     "metadata": {},
     "outputs": [
      {
       "metadata": {},
       "output_type": "pyout",
       "prompt_number": 15,
       "text": [
        "0.82099999999999995"
       ]
      }
     ],
     "prompt_number": 15
    },
    {
     "cell_type": "heading",
     "level": 1,
     "metadata": {},
     "source": [
      "Problem 9"
     ]
    },
    {
     "cell_type": "code",
     "collapsed": false,
     "input": [
      "def runExperiment9():\n",
      "    w, tSet = createTwoSideTS(100)\n",
      "    wtPLA, itera = runPLA(tSet)\n",
      "    wtSVM, nSVM = runSVM(tSet)\n",
      "    return performance(tSet,wtSVM) > performance(tSet, wtPLA)"
     ],
     "language": "python",
     "metadata": {},
     "outputs": [],
     "prompt_number": 21
    },
    {
     "cell_type": "code",
     "collapsed": false,
     "input": [
      "mean([runExperiment9() for i in range(1000)])"
     ],
     "language": "python",
     "metadata": {},
     "outputs": [
      {
       "metadata": {},
       "output_type": "pyout",
       "prompt_number": 22,
       "text": [
        "0.189"
       ]
      }
     ],
     "prompt_number": 22
    },
    {
     "cell_type": "heading",
     "level": 1,
     "metadata": {},
     "source": [
      "Problem 10"
     ]
    },
    {
     "cell_type": "code",
     "collapsed": false,
     "input": [
      "def runExperiment10():\n",
      "    w, tSet = createTwoSideTS(100)\n",
      "    wtSVM, nSVM = runSVM(tSet)\n",
      "    return sum(abs(nSVM) > 0.001)"
     ],
     "language": "python",
     "metadata": {},
     "outputs": [],
     "prompt_number": 24
    },
    {
     "cell_type": "code",
     "collapsed": false,
     "input": [
      "mean([runExperiment10() for i in range(1000)])"
     ],
     "language": "python",
     "metadata": {},
     "outputs": [
      {
       "metadata": {},
       "output_type": "pyout",
       "prompt_number": 25,
       "text": [
        "3.0"
       ]
      }
     ],
     "prompt_number": 25
    },
    {
     "cell_type": "heading",
     "level": 3,
     "metadata": {},
     "source": [
      "QP-problem Example"
     ]
    },
    {
     "cell_type": "code",
     "collapsed": false,
     "input": [
      "X = np.array([[0,0],[2,2],[2,0],[3,0]])\n",
      "Y = np.array([[-1],[-1],[1],[1]])"
     ],
     "language": "python",
     "metadata": {},
     "outputs": [],
     "prompt_number": 86
    },
    {
     "cell_type": "code",
     "collapsed": false,
     "input": [
      "dim = X.shape[1]+1\n",
      "rows = X.shape[0]\n",
      "Q = np.identity(dim)\n",
      "Q[0,0]=0"
     ],
     "language": "python",
     "metadata": {},
     "outputs": [],
     "prompt_number": 100
    },
    {
     "cell_type": "code",
     "collapsed": false,
     "input": [
      "p = np.zeros((1,dim))\n",
      "A = np.append(Y,Y*X, axis=1)\n",
      "c = np.ones((1,rows))"
     ],
     "language": "python",
     "metadata": {},
     "outputs": [],
     "prompt_number": 113
    },
    {
     "cell_type": "code",
     "collapsed": false,
     "input": [
      "print Q\n",
      "print p\n",
      "print A\n",
      "print c"
     ],
     "language": "python",
     "metadata": {},
     "outputs": [
      {
       "output_type": "stream",
       "stream": "stdout",
       "text": [
        "[[ 0.  0.  0.]\n",
        " [ 0.  1.  0.]\n",
        " [ 0.  0.  1.]]\n",
        "[[ 0.  0.  0.]]\n",
        "[[-1  0  0]\n",
        " [-1 -2 -2]\n",
        " [ 1  2  0]\n",
        " [ 1  3  0]]\n",
        "[[ 1.  1.  1.  1.]]\n"
       ]
      }
     ],
     "prompt_number": 114
    },
    {
     "cell_type": "code",
     "collapsed": false,
     "input": [
      "P = matrix(Q, tc='d')\n",
      "q = matrix(p.T, tc = 'd')\n",
      "G = matrix(-A, tc = 'd')\n",
      "h = matrix(-c.T, tc = 'd')"
     ],
     "language": "python",
     "metadata": {},
     "outputs": [],
     "prompt_number": 129
    },
    {
     "cell_type": "code",
     "collapsed": false,
     "input": [
      "print P\n",
      "print q\n",
      "print G\n",
      "print h"
     ],
     "language": "python",
     "metadata": {},
     "outputs": [
      {
       "output_type": "stream",
       "stream": "stdout",
       "text": [
        "[ 0.00e+00  0.00e+00  0.00e+00]\n",
        "[ 0.00e+00  1.00e+00  0.00e+00]\n",
        "[ 0.00e+00  0.00e+00  1.00e+00]\n",
        "\n",
        "[ 0.00e+00]\n",
        "[ 0.00e+00]\n",
        "[ 0.00e+00]\n",
        "\n",
        "[ 1.00e+00  0.00e+00  0.00e+00]\n",
        "[ 1.00e+00  2.00e+00  2.00e+00]\n",
        "[-1.00e+00 -2.00e+00  0.00e+00]\n",
        "[-1.00e+00 -3.00e+00  0.00e+00]\n",
        "\n",
        "[-1.00e+00]\n",
        "[-1.00e+00]\n",
        "[-1.00e+00]\n",
        "[-1.00e+00]\n",
        "\n"
       ]
      }
     ],
     "prompt_number": 130
    },
    {
     "cell_type": "code",
     "collapsed": false,
     "input": [
      "sol = solvers.qp(P, q, G, h)"
     ],
     "language": "python",
     "metadata": {},
     "outputs": [
      {
       "output_type": "stream",
       "stream": "stdout",
       "text": [
        "     pcost       dcost       gap    pres   dres\n",
        " 0:  3.2653e-01  1.9592e+00  6e+00  2e+00  4e+00\n",
        " 1:  1.5796e+00  8.5663e-01  7e-01  1e-16  2e-15\n",
        " 2:  1.0195e+00  9.9227e-01  3e-02  0e+00  2e-15\n",
        " 3:  1.0002e+00  9.9992e-01  3e-04  3e-16  2e-15\n",
        " 4:  1.0000e+00  1.0000e+00  3e-06  3e-16  1e-15\n",
        " 5:  1.0000e+00  1.0000e+00  3e-08  0e+00  1e-15\n",
        "Optimal solution found.\n"
       ]
      }
     ],
     "prompt_number": 131
    },
    {
     "cell_type": "code",
     "collapsed": false,
     "input": [
      "np.array(sol['x']).flatten()"
     ],
     "language": "python",
     "metadata": {},
     "outputs": [
      {
       "metadata": {},
       "output_type": "pyout",
       "prompt_number": 188,
       "text": [
        "array([-1.00000001,  1.00000001, -1.00000001])"
       ]
      }
     ],
     "prompt_number": 188
    },
    {
     "cell_type": "code",
     "collapsed": false,
     "input": [
      "np.array(sol['z'])"
     ],
     "language": "python",
     "metadata": {},
     "outputs": [
      {
       "metadata": {},
       "output_type": "pyout",
       "prompt_number": 261,
       "text": [
        "array([[  5.00000000e-01],\n",
        "       [  5.00000006e-01],\n",
        "       [  9.99999998e-01],\n",
        "       [  7.80987988e-09]])"
       ]
      }
     ],
     "prompt_number": 261
    },
    {
     "cell_type": "code",
     "collapsed": false,
     "input": [
      "sol"
     ],
     "language": "python",
     "metadata": {},
     "outputs": [
      {
       "metadata": {},
       "output_type": "pyout",
       "prompt_number": 239,
       "text": [
        "{'dual infeasibility': 1.0934428697813141e-15,\n",
        " 'dual objective': 0.9999999921901199,\n",
        " 'dual slack': 7.809879879252237e-09,\n",
        " 'gap': 2.751391363659421e-08,\n",
        " 'iterations': 5,\n",
        " 'primal infeasibility': 0.0,\n",
        " 'primal objective': 1.0000000197040335,\n",
        " 'primal slack': 3.660745676861771e-09,\n",
        " 'relative gap': 2.7513913851474576e-08,\n",
        " 's': <4x1 matrix, tc='d'>,\n",
        " 'status': 'optimal',\n",
        " 'x': <3x1 matrix, tc='d'>,\n",
        " 'y': <0x1 matrix, tc='d'>,\n",
        " 'z': <4x1 matrix, tc='d'>}"
       ]
      }
     ],
     "prompt_number": 239
    },
    {
     "cell_type": "code",
     "collapsed": false,
     "input": [],
     "language": "python",
     "metadata": {},
     "outputs": []
    }
   ],
   "metadata": {}
  }
 ]
}