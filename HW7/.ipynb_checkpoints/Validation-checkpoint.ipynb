{
 "metadata": {
  "name": "",
  "signature": "sha256:f4475dba51ea3baf177845cb932e10f48fd99b0afd53d831984b334eab8eb006"
 },
 "nbformat": 3,
 "nbformat_minor": 0,
 "worksheets": [
  {
   "cells": [
    {
     "cell_type": "code",
     "collapsed": false,
     "input": [
      "%pylab\n",
      "%matplotlib inline\n",
      "import pandas as pd"
     ],
     "language": "python",
     "metadata": {},
     "outputs": [
      {
       "output_type": "stream",
       "stream": "stdout",
       "text": [
        "Using matplotlib backend: MacOSX\n",
        "Populating the interactive namespace from numpy and matplotlib\n"
       ]
      }
     ],
     "prompt_number": 1
    },
    {
     "cell_type": "heading",
     "level": 1,
     "metadata": {},
     "source": [
      "Load Data"
     ]
    },
    {
     "cell_type": "code",
     "collapsed": false,
     "input": [
      "trainingDS = pd.read_fwf('in.dta', names = ['x1','x2','y'])\n",
      "testingDS = pd.read_fwf('out.dta', names = ['x1','x2','y'])"
     ],
     "language": "python",
     "metadata": {},
     "outputs": [],
     "prompt_number": 2
    },
    {
     "cell_type": "heading",
     "level": 1,
     "metadata": {},
     "source": [
      "Non-linear transformation for clasification"
     ]
    },
    {
     "cell_type": "code",
     "collapsed": false,
     "input": [
      "trainingDS[\"x0\"] = 1\n",
      "trainingDS[\"x1**2\"] = trainingDS.x1**2\n",
      "trainingDS[\"x2**2\"] = trainingDS.x2**2\n",
      "trainingDS[\"x1x2\"] = trainingDS.x1*trainingDS.x2\n",
      "trainingDS[\"|x1-x2|\"] = abs(trainingDS.x1 - trainingDS.x2)\n",
      "trainingDS[\"|x1+x2|\"] = abs(trainingDS.x1 + trainingDS.x2)"
     ],
     "language": "python",
     "metadata": {},
     "outputs": [],
     "prompt_number": 3
    },
    {
     "cell_type": "code",
     "collapsed": false,
     "input": [
      "testingDS[\"x0\"] = 1\n",
      "testingDS[\"x1**2\"] = testingDS.x1**2\n",
      "testingDS[\"x2**2\"] = testingDS.x2**2\n",
      "testingDS[\"x1x2\"] = testingDS.x1*testingDS.x2\n",
      "testingDS[\"|x1-x2|\"] = abs(testingDS.x1 - testingDS.x2)\n",
      "testingDS[\"|x1+x2|\"] = abs(testingDS.x1 + testingDS.x2)"
     ],
     "language": "python",
     "metadata": {},
     "outputs": [],
     "prompt_number": 4
    },
    {
     "cell_type": "code",
     "collapsed": false,
     "input": [
      "def getOutSampleWithRegularization(k, X_train, Y_train, X_test, Y_test):\n",
      "    l = 10**k\n",
      "    N = len(X_train)\n",
      "    ncols = X_train.shape[1]\n",
      "    weighDecay = l*np.identity(ncols)\n",
      "    pseudoInverse2 = inv(X_train.T.dot(X_train) + weighDecay).dot(X_train.T)\n",
      "    w_reg = pseudoInverse2.dot(Y_train)\n",
      "    Y_reg_est = sign(X_train.dot(w_reg))\n",
      "    E_in_reg = 1 - (1.0*sum(Y_reg_est == Y_train)/Y_train.shape[0])\n",
      "    testY_reg_estimate = sign(X_test.dot(w_reg))\n",
      "    E_out_reg = 1 - (1.0*sum(testY_reg_estimate == Y_test)/Y_test.shape[0])\n",
      "    return E_out_reg"
     ],
     "language": "python",
     "metadata": {},
     "outputs": [],
     "prompt_number": 5
    },
    {
     "cell_type": "code",
     "collapsed": false,
     "input": [
      "def getOutSample(X_train, Y_train, X_test, Y_test):\n",
      "    #Train\n",
      "    pseudoInverse2 = inv(X_train.T.dot(X_train)).dot(X_train.T)\n",
      "    w = pseudoInverse2.dot(Y_train)\n",
      "    Y_est = sign(X_train.dot(w))\n",
      "    E_in_reg = 1 - (1.0*sum(Y_est == Y_train)/Y_train.shape[0])\n",
      "    #Test\n",
      "    testY_estimate = sign(X_test.dot(w))\n",
      "    E_out_reg = 1 - (1.0*sum(testY_estimate == Y_test)/Y_test.shape[0])\n",
      "    return E_out_reg"
     ],
     "language": "python",
     "metadata": {},
     "outputs": [],
     "prompt_number": 6
    },
    {
     "cell_type": "code",
     "collapsed": false,
     "input": [
      "def getDataFromColumns(DS, cols):\n",
      "    X = DS[cols].values\n",
      "    Y = DS['y'].values\n",
      "    return (X, Y)"
     ],
     "language": "python",
     "metadata": {},
     "outputs": [],
     "prompt_number": 7
    },
    {
     "cell_type": "heading",
     "level": 1,
     "metadata": {},
     "source": [
      "Problem 1 y 2"
     ]
    },
    {
     "cell_type": "code",
     "collapsed": false,
     "input": [
      "validationDS = trainingDS.tail(10)\n",
      "trainingDS = trainingDS.head(25)"
     ],
     "language": "python",
     "metadata": {},
     "outputs": [],
     "prompt_number": 8
    },
    {
     "cell_type": "heading",
     "level": 2,
     "metadata": {},
     "source": [
      "k = 3"
     ]
    },
    {
     "cell_type": "code",
     "collapsed": false,
     "input": [
      "cols = [\"x0\",\"x1\",\"x2\",\"x1**2\"]\n",
      "X_train, Y_train = getDataFromColumns(trainingDS, cols)\n",
      "X_validation, Y_validation = getDataFromColumns(validationDS, cols)\n",
      "X_test, Y_test = getDataFromColumns(testingDS, cols)\n",
      "print \"Classification error on the evaluation set\" , getOutSample(X_train, Y_train, X_validation, Y_validation)\n",
      "print \"Out-of-sample\" , getOutSample(X_train, Y_train, X_test, Y_test)"
     ],
     "language": "python",
     "metadata": {},
     "outputs": [
      {
       "output_type": "stream",
       "stream": "stdout",
       "text": [
        "Classification error on the evaluation set 0.3\n",
        "Out-of-sample 0.42\n"
       ]
      }
     ],
     "prompt_number": 9
    },
    {
     "cell_type": "heading",
     "level": 2,
     "metadata": {},
     "source": [
      "k = 4"
     ]
    },
    {
     "cell_type": "code",
     "collapsed": false,
     "input": [
      "cols = [\"x0\",\"x1\",\"x2\",\"x1**2\",\"x2**2\"]\n",
      "X_train, Y_train = getDataFromColumns(trainingDS, cols)\n",
      "X_validation, Y_validation = getDataFromColumns(validationDS, cols)\n",
      "X_test, Y_test = getDataFromColumns(testingDS, cols)\n",
      "print \"Classification error on the evaluation set\" , getOutSample( X_train, Y_train, X_validation, Y_validation)\n",
      "print \"Out-of-sample\" , getOutSample( X_train, Y_train, X_test, Y_test)"
     ],
     "language": "python",
     "metadata": {},
     "outputs": [
      {
       "output_type": "stream",
       "stream": "stdout",
       "text": [
        "Classification error on the evaluation set 0.5\n",
        "Out-of-sample 0.416\n"
       ]
      }
     ],
     "prompt_number": 10
    },
    {
     "cell_type": "heading",
     "level": 2,
     "metadata": {},
     "source": [
      "k = 5"
     ]
    },
    {
     "cell_type": "code",
     "collapsed": false,
     "input": [
      "cols = [\"x0\",\"x1\",\"x2\",\"x1**2\",\"x2**2\",\"x1x2\"]\n",
      "X_train, Y_train = getDataFromColumns(trainingDS, cols)\n",
      "X_validation, Y_validation = getDataFromColumns(validationDS, cols)\n",
      "X_test, Y_test = getDataFromColumns(testingDS, cols)\n",
      "print \"Classification error on the evaluation set\" , \n",
      "print \"Out-of-sample\" , \n",
      "getOutSample( X_train, Y_train, X_validation, Y_validation), getOutSample( X_train, Y_train, X_test, Y_test)"
     ],
     "language": "python",
     "metadata": {},
     "outputs": [
      {
       "output_type": "stream",
       "stream": "stdout",
       "text": [
        "Classification error on the evaluation set Out-of-sample"
       ]
      },
      {
       "metadata": {},
       "output_type": "pyout",
       "prompt_number": 11,
       "text": [
        "(0.19999999999999996, 0.18799999999999994)"
       ]
      },
      {
       "output_type": "stream",
       "stream": "stdout",
       "text": [
        "\n"
       ]
      }
     ],
     "prompt_number": 11
    },
    {
     "cell_type": "heading",
     "level": 2,
     "metadata": {},
     "source": [
      "k = 6"
     ]
    },
    {
     "cell_type": "code",
     "collapsed": false,
     "input": [
      "cols = [\"x0\",\"x1\",\"x2\",\"x1**2\",\"x2**2\",\"x1x2\",\"|x1-x2|\"]\n",
      "X_train, Y_train = getDataFromColumns(trainingDS, cols)\n",
      "X_validation, Y_validation = getDataFromColumns(validationDS, cols)\n",
      "X_test, Y_test = getDataFromColumns(testingDS, cols)\n",
      "print \"Classification error on the evaluation set\" , getOutSample( X_train, Y_train, X_validation, Y_validation)\n",
      "print \"Out-of-sample\" , getOutSample( X_train, Y_train, X_test, Y_test)\n",
      "getOutSample( X_train, Y_train, X_validation, Y_validation), getOutSample( X_train, Y_train, X_test, Y_test)"
     ],
     "language": "python",
     "metadata": {},
     "outputs": [
      {
       "output_type": "stream",
       "stream": "stdout",
       "text": [
        "Classification error on the evaluation set 0.0\n",
        "Out-of-sample 0.084\n"
       ]
      },
      {
       "metadata": {},
       "output_type": "pyout",
       "prompt_number": 12,
       "text": [
        "(0.0, 0.08399999999999996)"
       ]
      }
     ],
     "prompt_number": 12
    },
    {
     "cell_type": "heading",
     "level": 2,
     "metadata": {},
     "source": [
      "k = 7"
     ]
    },
    {
     "cell_type": "code",
     "collapsed": false,
     "input": [
      "cols = [\"x0\",\"x1\",\"x2\",\"x1**2\",\"x2**2\",\"x1x2\",\"|x1-x2|\",\"|x1+x2|\"]\n",
      "X_train, Y_train = getDataFromColumns(trainingDS, cols)\n",
      "X_validation, Y_validation = getDataFromColumns(validationDS, cols)\n",
      "X_test, Y_test = getDataFromColumns(testingDS, cols)\n",
      "print \"Classification error on the evaluation set\" , getOutSample(X_train, Y_train, X_validation, Y_validation)\n",
      "print \"Out-of-sample\" , getOutSample( X_train, Y_train, X_test, Y_test)\n",
      "getOutSample( X_train, Y_train, X_validation, Y_validation), getOutSample( X_train, Y_train, X_test, Y_test)"
     ],
     "language": "python",
     "metadata": {},
     "outputs": [
      {
       "output_type": "stream",
       "stream": "stdout",
       "text": [
        "Classification error on the evaluation set 0.1\n",
        "Out-of-sample 0.072\n"
       ]
      },
      {
       "metadata": {},
       "output_type": "pyout",
       "prompt_number": 13,
       "text": [
        "(0.09999999999999998, 0.07199999999999995)"
       ]
      }
     ],
     "prompt_number": 13
    },
    {
     "cell_type": "heading",
     "level": 1,
     "metadata": {},
     "source": [
      "Problem 3"
     ]
    },
    {
     "cell_type": "code",
     "collapsed": false,
     "input": [
      "trainingDS = pd.read_fwf('in.dta', names = ['x1','x2','y'])\n",
      "testingDS = pd.read_fwf('out.dta', names = ['x1','x2','y'])\n",
      "trainingDS[\"x0\"] = 1\n",
      "trainingDS[\"x1**2\"] = trainingDS.x1**2\n",
      "trainingDS[\"x2**2\"] = trainingDS.x2**2\n",
      "trainingDS[\"x1x2\"] = trainingDS.x1*trainingDS.x2\n",
      "trainingDS[\"|x1-x2|\"] = abs(trainingDS.x1 - trainingDS.x2)\n",
      "trainingDS[\"|x1+x2|\"] = abs(trainingDS.x1 + trainingDS.x2)\n",
      "testingDS[\"x0\"] = 1\n",
      "testingDS[\"x1**2\"] = testingDS.x1**2\n",
      "testingDS[\"x2**2\"] = testingDS.x2**2\n",
      "testingDS[\"x1x2\"] = testingDS.x1*testingDS.x2\n",
      "testingDS[\"|x1-x2|\"] = abs(testingDS.x1 - testingDS.x2)\n",
      "testingDS[\"|x1+x2|\"] = abs(testingDS.x1 + testingDS.x2)\n",
      "validationDS = trainingDS.tail(25)\n",
      "trainingDS = trainingDS.head(10)"
     ],
     "language": "python",
     "metadata": {},
     "outputs": [],
     "prompt_number": 14
    },
    {
     "cell_type": "code",
     "collapsed": false,
     "input": [],
     "language": "python",
     "metadata": {},
     "outputs": [],
     "prompt_number": 14
    },
    {
     "cell_type": "heading",
     "level": 2,
     "metadata": {},
     "source": [
      "k = 3"
     ]
    },
    {
     "cell_type": "code",
     "collapsed": false,
     "input": [
      "cols = [\"x0\",\"x1\",\"x2\",\"x1**2\"]\n",
      "X_train, Y_train = getDataFromColumns(trainingDS, cols)\n",
      "X_validation, Y_validation = getDataFromColumns(validationDS, cols)\n",
      "X_test, Y_test = getDataFromColumns(testingDS, cols)\n",
      "print \"Classification error on the evaluation set\" , getOutSample(X_train, Y_train, X_validation, Y_validation)\n",
      "print \"Out-of-sample\" , getOutSample(X_train, Y_train, X_test, Y_test)"
     ],
     "language": "python",
     "metadata": {},
     "outputs": [
      {
       "output_type": "stream",
       "stream": "stdout",
       "text": [
        "Classification error on the evaluation set 0.48\n",
        "Out-of-sample 0.472\n"
       ]
      }
     ],
     "prompt_number": 15
    },
    {
     "cell_type": "heading",
     "level": 2,
     "metadata": {},
     "source": [
      "k = 4"
     ]
    },
    {
     "cell_type": "code",
     "collapsed": false,
     "input": [
      "cols = [\"x0\",\"x1\",\"x2\",\"x1**2\",\"x2**2\"]\n",
      "X_train, Y_train = getDataFromColumns(trainingDS, cols)\n",
      "X_validation, Y_validation = getDataFromColumns(validationDS, cols)\n",
      "X_test, Y_test = getDataFromColumns(testingDS, cols)\n",
      "print \"Classification error on the evaluation set\" , getOutSample( X_train, Y_train, X_validation, Y_validation)\n",
      "print \"Out-of-sample\" , getOutSample( X_train, Y_train, X_test, Y_test)"
     ],
     "language": "python",
     "metadata": {},
     "outputs": [
      {
       "output_type": "stream",
       "stream": "stdout",
       "text": [
        "Classification error on the evaluation set 0.4\n",
        "Out-of-sample 0.412\n"
       ]
      }
     ],
     "prompt_number": 16
    },
    {
     "cell_type": "heading",
     "level": 2,
     "metadata": {},
     "source": [
      "k = 5"
     ]
    },
    {
     "cell_type": "code",
     "collapsed": false,
     "input": [
      "cols = [\"x0\",\"x1\",\"x2\",\"x1**2\",\"x2**2\",\"x1x2\"]\n",
      "X_train, Y_train = getDataFromColumns(trainingDS, cols)\n",
      "X_validation, Y_validation = getDataFromColumns(validationDS, cols)\n",
      "X_test, Y_test = getDataFromColumns(testingDS, cols)\n",
      "print \"Classification error on the evaluation set\" , \n",
      "print \"Out-of-sample\" , \n",
      "getOutSample( X_train, Y_train, X_validation, Y_validation), getOutSample( X_train, Y_train, X_test, Y_test)"
     ],
     "language": "python",
     "metadata": {},
     "outputs": [
      {
       "output_type": "stream",
       "stream": "stdout",
       "text": [
        "Classification error on the evaluation set Out-of-sample"
       ]
      },
      {
       "metadata": {},
       "output_type": "pyout",
       "prompt_number": 17,
       "text": [
        "(0.36, 0.348)"
       ]
      },
      {
       "output_type": "stream",
       "stream": "stdout",
       "text": [
        "\n"
       ]
      }
     ],
     "prompt_number": 17
    },
    {
     "cell_type": "heading",
     "level": 2,
     "metadata": {},
     "source": [
      "k = 6"
     ]
    },
    {
     "cell_type": "code",
     "collapsed": false,
     "input": [
      "cols = [\"x0\",\"x1\",\"x2\",\"x1**2\",\"x2**2\",\"x1x2\",\"|x1-x2|\"]\n",
      "X_train, Y_train = getDataFromColumns(trainingDS, cols)\n",
      "X_validation, Y_validation = getDataFromColumns(validationDS, cols)\n",
      "X_test, Y_test = getDataFromColumns(testingDS, cols)\n",
      "print \"Classification error on the evaluation set\" , getOutSample( X_train, Y_train, X_validation, Y_validation)\n",
      "print \"Out-of-sample\" , getOutSample( X_train, Y_train, X_test, Y_test)\n",
      "getOutSample( X_train, Y_train, X_validation, Y_validation), getOutSample( X_train, Y_train, X_test, Y_test)"
     ],
     "language": "python",
     "metadata": {},
     "outputs": [
      {
       "output_type": "stream",
       "stream": "stdout",
       "text": [
        "Classification error on the evaluation set 0.0\n",
        "Out-of-sample 0.104\n"
       ]
      },
      {
       "metadata": {},
       "output_type": "pyout",
       "prompt_number": 18,
       "text": [
        "(0.0, 0.10399999999999998)"
       ]
      }
     ],
     "prompt_number": 18
    },
    {
     "cell_type": "heading",
     "level": 2,
     "metadata": {},
     "source": [
      "k = 7"
     ]
    },
    {
     "cell_type": "code",
     "collapsed": false,
     "input": [
      "cols = [\"x0\",\"x1\",\"x2\",\"x1**2\",\"x2**2\",\"x1x2\",\"|x1-x2|\",\"|x1+x2|\"]\n",
      "X_train, Y_train = getDataFromColumns(trainingDS, cols)\n",
      "X_validation, Y_validation = getDataFromColumns(validationDS, cols)\n",
      "X_test, Y_test = getDataFromColumns(testingDS, cols)\n",
      "print \"Classification error on the evaluation set\" , getOutSample(X_train, Y_train, X_validation, Y_validation)\n",
      "print \"Out-of-sample\" , getOutSample( X_train, Y_train, X_test, Y_test)\n",
      "getOutSample( X_train, Y_train, X_validation, Y_validation), getOutSample( X_train, Y_train, X_test, Y_test)"
     ],
     "language": "python",
     "metadata": {},
     "outputs": [
      {
       "output_type": "stream",
       "stream": "stdout",
       "text": [
        "Classification error on the evaluation set 0.16\n",
        "Out-of-sample 0.172\n"
       ]
      },
      {
       "metadata": {},
       "output_type": "pyout",
       "prompt_number": 19,
       "text": [
        "(0.16000000000000003, 0.17200000000000004)"
       ]
      }
     ],
     "prompt_number": 19
    },
    {
     "cell_type": "code",
     "collapsed": false,
     "input": [],
     "language": "python",
     "metadata": {},
     "outputs": []
    }
   ],
   "metadata": {}
  }
 ]
}