{
 "metadata": {
  "name": "",
  "signature": "sha256:0fbbe3e6bff85a13a7ad928a48f500a91337f37fc21f0c4d7bde67c4f6b25e5c"
 },
 "nbformat": 3,
 "nbformat_minor": 0,
 "worksheets": []
}