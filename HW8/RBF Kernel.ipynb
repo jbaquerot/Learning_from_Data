{
 "metadata": {
  "name": "",
  "signature": "sha256:5b5398a7c9ab0e807a47de1595292d30cab48aaaee896f4861c3013c01aa16b5"
 },
 "nbformat": 3,
 "nbformat_minor": 0,
 "worksheets": [
  {
   "cells": [
    {
     "cell_type": "code",
     "collapsed": false,
     "input": [
      "%pylab\n",
      "%matplotlib inline\n",
      "import pandas as pd\n",
      "from sklearn import svm\n",
      "from sklearn.cross_validation import KFold"
     ],
     "language": "python",
     "metadata": {},
     "outputs": [
      {
       "output_type": "stream",
       "stream": "stdout",
       "text": [
        "Using matplotlib backend: MacOSX\n",
        "Populating the interactive namespace from numpy and matplotlib\n"
       ]
      }
     ],
     "prompt_number": 1
    },
    {
     "cell_type": "heading",
     "level": 1,
     "metadata": {},
     "source": [
      "Load Data"
     ]
    },
    {
     "cell_type": "code",
     "collapsed": false,
     "input": [
      "trainingDS = pd.read_fwf('./data/features.train', names = ['digit','symmetry','intensity'])\n",
      "testingDS = pd.read_fwf('./data/features.test', names = ['digit','symmetry','intensity'])\n",
      "print \"Training Set Shape\" , trainingDS.shape\n",
      "print \"Testing Set Shape\" , testingDS.shape"
     ],
     "language": "python",
     "metadata": {},
     "outputs": [
      {
       "output_type": "stream",
       "stream": "stdout",
       "text": [
        "Training Set Shape (7291, 3)\n",
        "Testing Set Shape (2007, 3)\n"
       ]
      }
     ],
     "prompt_number": 2
    },
    {
     "cell_type": "heading",
     "level": 2,
     "metadata": {},
     "source": [
      "Select Data"
     ]
    },
    {
     "cell_type": "code",
     "collapsed": false,
     "input": [
      "def getDataNvsM(DS, n, m):\n",
      "    DSOnlyNandM = DS[(DS.digit==n) | (DS.digit==m)]\n",
      "    X_training = DSOnlyNandM[['symmetry','intensity']].values\n",
      "    Y_training = map(lambda x: 1 if (x==n) else -1, DSOnlyNandM.digit)\n",
      "    return X_training, Y_training\n",
      "\n",
      "def getError( model, X, Y):\n",
      "    lenght = len(Y)\n",
      "    #print sum(model.predict(X))\n",
      "    return 1-(1.0*sum(model.predict(X) == Y)/lenght)\n",
      "\n",
      "def runExperiment(trainingDS, testDS, n, m, CArg, gammaArg):\n",
      "    X, Y = getDataNvsM(trainingDS, n, m)\n",
      "    polynomial_SVM = svm.SVC(C=CArg, kernel = 'rbf', gamma = gammaArg)\n",
      "    #training the model\n",
      "    polynomial_SVM.fit(X,Y)\n",
      "    X_train, Y_train = getDataNvsM(testDS, n, m)\n",
      "    E_in = getError( polynomial_SVM, X, Y)\n",
      "    E_out = getError( polynomial_SVM, X_train, Y_train)\n",
      "    print \"Experient \", n, \" vs \", m, \"gamma =\", gammaArg, \"C= \", CArg, \" #SV\", polynomial_SVM.n_support_, \"E_out:  \", E_out, \"E_in:  \", E_in\n",
      "    return E_in, E_out"
     ],
     "language": "python",
     "metadata": {},
     "outputs": [],
     "prompt_number": 6
    },
    {
     "cell_type": "heading",
     "level": 1,
     "metadata": {},
     "source": [
      "Problem 9"
     ]
    },
    {
     "cell_type": "code",
     "collapsed": false,
     "input": [
      "runExperiment(trainingDS, testingDS, 1, 5, CArg = 0.01, gammaArg = 1)\n",
      "runExperiment(trainingDS, testingDS, 1, 5, CArg = 1, gammaArg = 1)\n",
      "runExperiment(trainingDS, testingDS, 1, 5, CArg = 100, gammaArg = 1)\n",
      "runExperiment(trainingDS, testingDS, 1, 5, CArg = 1e4, gammaArg = 1)\n",
      "runExperiment(trainingDS, testingDS, 1, 5, CArg = 1e6, gammaArg = 1)"
     ],
     "language": "python",
     "metadata": {},
     "outputs": [
      {
       "output_type": "stream",
       "stream": "stdout",
       "text": [
        "Experient  1  vs  5 gamma = 1 C=  0.01  #SV [205 201] E_out:   0.0235849056604 E_in:   0.00384368994234\n",
        "Experient  1  vs  5 gamma = 1 C=  1  #SV [17 14] E_out:   0.0212264150943 E_in:   0.00448430493274\n",
        "Experient  1  vs  5 gamma = 1 C=  100  #SV [14  8] E_out:   0.0188679245283 E_in:   0.00320307495195\n",
        "Experient "
       ]
      },
      {
       "output_type": "stream",
       "stream": "stdout",
       "text": [
        " 1  vs  5 gamma = 1 C=  10000.0  #SV [12  7] E_out:   0.0235849056604 E_in:   0.00256245996156\n",
        "Experient "
       ]
      },
      {
       "output_type": "stream",
       "stream": "stdout",
       "text": [
        " 1  vs  5 gamma = 1 C=  1000000.0  #SV [9 8] E_out:   0.0235849056604 E_in:   0.000640614990391\n"
       ]
      },
      {
       "metadata": {},
       "output_type": "pyout",
       "prompt_number": 9,
       "text": [
        "(0.0006406149903908087, 0.02358490566037741)"
       ]
      }
     ],
     "prompt_number": 9
    },
    {
     "cell_type": "code",
     "collapsed": false,
     "input": [],
     "language": "python",
     "metadata": {},
     "outputs": []
    }
   ],
   "metadata": {}
  }
 ]
}