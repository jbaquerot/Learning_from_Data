{
 "metadata": {
  "name": "",
  "signature": "sha256:e18e4fd42e2dc8d07a29299c30700b92f6e819c06c964d44e9b65e397afed7dc"
 },
 "nbformat": 3,
 "nbformat_minor": 0,
 "worksheets": [
  {
   "cells": [
    {
     "cell_type": "code",
     "collapsed": false,
     "input": [
      "%pylab\n",
      "%matplotlib inline\n",
      "import pandas as pd\n",
      "from sklearn import svm\n",
      "from sklearn.cross_validation import KFold"
     ],
     "language": "python",
     "metadata": {},
     "outputs": [
      {
       "output_type": "stream",
       "stream": "stdout",
       "text": [
        "Using matplotlib backend: MacOSX\n",
        "Populating the interactive namespace from numpy and matplotlib\n"
       ]
      }
     ],
     "prompt_number": 3
    },
    {
     "cell_type": "heading",
     "level": 1,
     "metadata": {},
     "source": [
      "Load Data"
     ]
    },
    {
     "cell_type": "code",
     "collapsed": false,
     "input": [
      "trainingDS = pd.read_fwf('./data/features.train', names = ['digit','symmetry','intensity'])\n",
      "testingDS = pd.read_fwf('./data/features.test', names = ['digit','symmetry','intensity'])\n",
      "print \"Training Set Shape\" , trainingDS.shape\n",
      "print \"Testing Set Shape\" , testingDS.shape"
     ],
     "language": "python",
     "metadata": {},
     "outputs": [
      {
       "output_type": "stream",
       "stream": "stdout",
       "text": [
        "Training Set Shape (7291, 3)\n",
        "Testing Set Shape (2007, 3)\n"
       ]
      }
     ],
     "prompt_number": 2
    },
    {
     "cell_type": "code",
     "collapsed": false,
     "input": [
      "def getDataNvsM(DS, n, m):\n",
      "    DSOnlyNandM = DS[(DS.digit==n) | (DS.digit==m)]\n",
      "    X_training = DSOnlyNandM[['symmetry','intensity']].values\n",
      "    Y_training = map(lambda x: 1 if (x==n) else -1, DSOnlyNandM.digit)\n",
      "    return X_training, Y_training"
     ],
     "language": "python",
     "metadata": {},
     "outputs": [],
     "prompt_number": 10
    },
    {
     "cell_type": "code",
     "collapsed": false,
     "input": [
      "def getError( model, X, Y):\n",
      "    lenght = len(Y)\n",
      "    #print sum(model.predict(X))\n",
      "    return 1-(1.0*sum(model.predict(X) == Y)/lenght)"
     ],
     "language": "python",
     "metadata": {},
     "outputs": [],
     "prompt_number": 11
    },
    {
     "cell_type": "code",
     "collapsed": false,
     "input": [
      "def runExperiment(trainingDS, testDS, n, m, CArg, Q):\n",
      "    X, Y = getDataNvsM(trainingDS, n, m)\n",
      "    polynomial_SVM = svm.SVC(C=CArg, kernel = 'poly', degree = Q, coef0 = 1)\n",
      "    #training the model\n",
      "    polynomial_SVM.fit(X,Y)\n",
      "    X_train, Y_train = getDataNvsM(testDS, n, m)\n",
      "    E_in = getError( polynomial_SVM, X, Y)\n",
      "    E_out = getError( polynomial_SVM, X_train, Y_train)\n",
      "    return E_out"
     ],
     "language": "python",
     "metadata": {},
     "outputs": [],
     "prompt_number": 89
    },
    {
     "cell_type": "heading",
     "level": 1,
     "metadata": {},
     "source": [
      "Problem 7"
     ]
    },
    {
     "cell_type": "code",
     "collapsed": false,
     "input": [
      "def chooseBestC(trainingDS, testDS, n, m, Q):\n",
      "    Cs = [0.0001, 0.001, 0.01, 0.1, 1]\n",
      "    experiments = [runExperiment(trainingDS, testDS, n, m, c, Q) for c in Cs]\n",
      "    bestC = Cs[np.argmin(experiments)]\n",
      "    return bestC"
     ],
     "language": "python",
     "metadata": {},
     "outputs": [],
     "prompt_number": 90
    },
    {
     "cell_type": "code",
     "collapsed": false,
     "input": [
      "def run10FoldersExperiment(trainDS):\n",
      "    kf = KFold(len(trainDS), n_folds=10, shuffle=True)\n",
      "    bestCs = [chooseBestC(trainDS.ix[train], trainDS.ix[test], 1, 5, 1) for train,test in kf]\n",
      "    return bestCs\n",
      "        \n",
      "    "
     ],
     "language": "python",
     "metadata": {},
     "outputs": [],
     "prompt_number": 91
    },
    {
     "cell_type": "code",
     "collapsed": false,
     "input": [
      "print run10FoldersExperiment(trainingDS)\n",
      "print run10FoldersExperiment(trainingDS)"
     ],
     "language": "python",
     "metadata": {},
     "outputs": [
      {
       "output_type": "stream",
       "stream": "stdout",
       "text": [
        "[0.001, 0.01, 0.001, 0.01, 0.01, 0.001, 0.001, 0.01, 0.01, 0.001]\n",
        "[0.01, 0.001, 0.001, 0.001, 0.01, 0.001, 1, 0.001, 0.01, 0.001]"
       ]
      },
      {
       "output_type": "stream",
       "stream": "stdout",
       "text": [
        "\n"
       ]
      }
     ],
     "prompt_number": 92
    },
    {
     "cell_type": "code",
     "collapsed": false,
     "input": [
      "def run(DS):\n",
      "    res = run10FoldersExperiment(DS)\n",
      "    return max(set(res), key=res.count)\n"
     ],
     "language": "python",
     "metadata": {},
     "outputs": [],
     "prompt_number": 96
    },
    {
     "cell_type": "code",
     "collapsed": false,
     "input": [
      "results = [run(trainingDS) for i in range(100)]"
     ],
     "language": "python",
     "metadata": {},
     "outputs": [],
     "prompt_number": 94
    },
    {
     "cell_type": "code",
     "collapsed": false,
     "input": [
      "max(set(results), key=res.count)"
     ],
     "language": "python",
     "metadata": {},
     "outputs": [
      {
       "metadata": {},
       "output_type": "pyout",
       "prompt_number": 95,
       "text": [
        "0.001"
       ]
      }
     ],
     "prompt_number": 95
    },
    {
     "cell_type": "heading",
     "level": 2,
     "metadata": {},
     "source": [
      "Problem 8"
     ]
    },
    {
     "cell_type": "code",
     "collapsed": false,
     "input": [
      "def runExperiment8(trainDS):\n",
      "    C = 0.001\n",
      "    kf = KFold(len(trainDS), n_folds=10, shuffle=True)\n",
      "    return mean([runExperiment(trainDS.ix[train], trainDS.ix[test], 1, 5, C, 1) for train, test in kf])"
     ],
     "language": "python",
     "metadata": {},
     "outputs": [],
     "prompt_number": 103
    },
    {
     "cell_type": "code",
     "collapsed": false,
     "input": [
      "C = 0.001\n",
      "mean([runExperiment8(trainingDS) for i in range(100)])"
     ],
     "language": "python",
     "metadata": {},
     "outputs": [
      {
       "metadata": {},
       "output_type": "pyout",
       "prompt_number": 104,
       "text": [
        "0.0083184393289435898"
       ]
      }
     ],
     "prompt_number": 104
    },
    {
     "cell_type": "code",
     "collapsed": false,
     "input": [],
     "language": "python",
     "metadata": {},
     "outputs": []
    }
   ],
   "metadata": {}
  }
 ]
}