{
 "metadata": {
  "name": "",
  "signature": "sha256:96ab0b47bdd4df4fd8f7a4377aa1d003d8aacbfbb19b0ee4bbcc55ad2f305a12"
 },
 "nbformat": 3,
 "nbformat_minor": 0,
 "worksheets": [
  {
   "cells": [
    {
     "cell_type": "code",
     "collapsed": false,
     "input": [
      "%pylab\n",
      "%matplotlib inline\n",
      "import pandas as pd"
     ],
     "language": "python",
     "metadata": {},
     "outputs": [
      {
       "output_type": "stream",
       "stream": "stdout",
       "text": [
        "Using matplotlib backend: MacOSX\n",
        "Populating the interactive namespace from numpy and matplotlib\n"
       ]
      }
     ],
     "prompt_number": 1
    },
    {
     "cell_type": "heading",
     "level": 2,
     "metadata": {},
     "source": [
      "Load data"
     ]
    },
    {
     "cell_type": "code",
     "collapsed": false,
     "input": [
      "trainingDS = pd.read_fwf('in.dta', names = ['x1','x2','y'])\n",
      "testingDS = pd.read_fwf('out.dta', names = ['x1','x2','y'])"
     ],
     "language": "python",
     "metadata": {},
     "outputs": [],
     "prompt_number": 2
    },
    {
     "cell_type": "heading",
     "level": 2,
     "metadata": {},
     "source": [
      "Non-linear transformation for clasification"
     ]
    },
    {
     "cell_type": "code",
     "collapsed": false,
     "input": [
      "trainingDS[\"x0\"] = 1\n",
      "trainingDS[\"x1**2\"] = trainingDS.x1**2\n",
      "trainingDS[\"x2**2\"] = trainingDS.x2**2\n",
      "trainingDS[\"x1x2\"] = trainingDS.x1*trainingDS.x2\n",
      "trainingDS[\"|x1-x2|\"] = abs(trainingDS.x1 - trainingDS.x2)\n",
      "trainingDS[\"|x1+x2|\"] = abs(trainingDS.x1 + trainingDS.x2)"
     ],
     "language": "python",
     "metadata": {},
     "outputs": [],
     "prompt_number": 62
    },
    {
     "cell_type": "code",
     "collapsed": false,
     "input": [
      "len(trainingDS.values)"
     ],
     "language": "python",
     "metadata": {},
     "outputs": [
      {
       "metadata": {},
       "output_type": "pyout",
       "prompt_number": 63,
       "text": [
        "35"
       ]
      }
     ],
     "prompt_number": 63
    },
    {
     "cell_type": "code",
     "collapsed": false,
     "input": [
      "testingDS[\"x0\"] = 1\n",
      "testingDS[\"x1**2\"] = testingDS.x1**2\n",
      "testingDS[\"x2**2\"] = testingDS.x2**2\n",
      "testingDS[\"x1x2\"] = testingDS.x1*testingDS.x2\n",
      "testingDS[\"|x1-x2|\"] = abs(testingDS.x1 - testingDS.x2)\n",
      "testingDS[\"|x1+x2|\"] = abs(testingDS.x1 + testingDS.x2)"
     ],
     "language": "python",
     "metadata": {},
     "outputs": [],
     "prompt_number": 64
    },
    {
     "cell_type": "code",
     "collapsed": false,
     "input": [
      "len(testingDS)"
     ],
     "language": "python",
     "metadata": {},
     "outputs": [
      {
       "metadata": {},
       "output_type": "pyout",
       "prompt_number": 65,
       "text": [
        "250"
       ]
      }
     ],
     "prompt_number": 65
    },
    {
     "cell_type": "heading",
     "level": 1,
     "metadata": {},
     "source": [
      "Problem 2"
     ]
    },
    {
     "cell_type": "heading",
     "level": 2,
     "metadata": {},
     "source": [
      "Linear Regresion"
     ]
    },
    {
     "cell_type": "code",
     "collapsed": false,
     "input": [
      "X = trainingDS[['x0','x1','x2','x1**2','x2**2','x1x2','|x1-x2|', '|x1+x2|']].values\n",
      "Y = trainingDS['y'].values"
     ],
     "language": "python",
     "metadata": {},
     "outputs": [],
     "prompt_number": 126
    },
    {
     "cell_type": "code",
     "collapsed": false,
     "input": [
      "pseudoInverse = inv(X.T.dot(X)).dot(X.T)"
     ],
     "language": "python",
     "metadata": {},
     "outputs": [],
     "prompt_number": 71
    },
    {
     "cell_type": "code",
     "collapsed": false,
     "input": [
      "w_lin = pseudoInverse.dot(Y)"
     ],
     "language": "python",
     "metadata": {},
     "outputs": [],
     "prompt_number": 72
    },
    {
     "cell_type": "heading",
     "level": 3,
     "metadata": {},
     "source": [
      "Estimating in-sample Error"
     ]
    },
    {
     "cell_type": "code",
     "collapsed": false,
     "input": [
      "Y_estimate = sign(X.dot(w_lin))"
     ],
     "language": "python",
     "metadata": {},
     "outputs": [],
     "prompt_number": 73
    },
    {
     "cell_type": "code",
     "collapsed": false,
     "input": [
      "E_in = 1 - (1.0*sum(Y_estimate == Y)/Y.shape[0])"
     ],
     "language": "python",
     "metadata": {},
     "outputs": [],
     "prompt_number": 74
    },
    {
     "cell_type": "code",
     "collapsed": false,
     "input": [
      "print \"in Sample Error:\" , E_in"
     ],
     "language": "python",
     "metadata": {},
     "outputs": [
      {
       "output_type": "stream",
       "stream": "stdout",
       "text": [
        "in Sample Error: 0.0285714285714\n"
       ]
      }
     ],
     "prompt_number": 75
    },
    {
     "cell_type": "heading",
     "level": 3,
     "metadata": {},
     "source": [
      "Estimating out-of-sample Error"
     ]
    },
    {
     "cell_type": "code",
     "collapsed": false,
     "input": [
      "X_test = testingDS[['x0','x1','x2','x1**2','x2**2','x1x2','|x1-x2|', '|x1+x2|']].values\n",
      "Y_test = testingDS['y'].values"
     ],
     "language": "python",
     "metadata": {},
     "outputs": [],
     "prompt_number": 127
    },
    {
     "cell_type": "code",
     "collapsed": false,
     "input": [
      "trainingY_estimate = sign(X_test.dot(w_lin))"
     ],
     "language": "python",
     "metadata": {},
     "outputs": [],
     "prompt_number": 78
    },
    {
     "cell_type": "code",
     "collapsed": false,
     "input": [
      "E_out = 1 - (1.0*sum(trainingY_estimate == Y_test)/Y_test.shape[0])"
     ],
     "language": "python",
     "metadata": {},
     "outputs": [],
     "prompt_number": 79
    },
    {
     "cell_type": "code",
     "collapsed": false,
     "input": [
      "print \"out-of-sample Error:\" , E_out"
     ],
     "language": "python",
     "metadata": {},
     "outputs": [
      {
       "output_type": "stream",
       "stream": "stdout",
       "text": [
        "out-of-sample Error: 0.084\n"
       ]
      }
     ],
     "prompt_number": 80
    },
    {
     "cell_type": "heading",
     "level": 1,
     "metadata": {},
     "source": [
      "Problem 3"
     ]
    },
    {
     "cell_type": "code",
     "collapsed": false,
     "input": [
      "k = -3\n",
      "l = 10**k\n",
      "N = len(X)\n",
      "weighDecay = l*np.identity(8)"
     ],
     "language": "python",
     "metadata": {},
     "outputs": [],
     "prompt_number": 154
    },
    {
     "cell_type": "code",
     "collapsed": false,
     "input": [
      "X.T.dot(X).shape"
     ],
     "language": "python",
     "metadata": {},
     "outputs": [
      {
       "metadata": {},
       "output_type": "pyout",
       "prompt_number": 155,
       "text": [
        "(8, 8)"
       ]
      }
     ],
     "prompt_number": 155
    },
    {
     "cell_type": "code",
     "collapsed": false,
     "input": [
      "pseudoInverse2 = inv(X.T.dot(X)+weighDecay).dot(X.T)"
     ],
     "language": "python",
     "metadata": {},
     "outputs": [],
     "prompt_number": 156
    },
    {
     "cell_type": "code",
     "collapsed": false,
     "input": [
      "w_reg = pseudoInverse2.dot(Y)"
     ],
     "language": "python",
     "metadata": {},
     "outputs": [],
     "prompt_number": 157
    },
    {
     "cell_type": "heading",
     "level": 3,
     "metadata": {},
     "source": [
      "Estimating Regularizated in-sample Error"
     ]
    },
    {
     "cell_type": "code",
     "collapsed": false,
     "input": [
      "Y_reg_est = sign(X.dot(w_reg))"
     ],
     "language": "python",
     "metadata": {},
     "outputs": [],
     "prompt_number": 158
    },
    {
     "cell_type": "code",
     "collapsed": false,
     "input": [
      "E_in_reg = 1 - (1.0*sum(Y_reg_est == Y)/Y.shape[0])"
     ],
     "language": "python",
     "metadata": {},
     "outputs": [],
     "prompt_number": 159
    },
    {
     "cell_type": "code",
     "collapsed": false,
     "input": [
      "print \"Regularization in Sample Error:\" , E_in_reg"
     ],
     "language": "python",
     "metadata": {},
     "outputs": [
      {
       "output_type": "stream",
       "stream": "stdout",
       "text": [
        "Regularization in Sample Error: 0.0285714285714\n"
       ]
      }
     ],
     "prompt_number": 160
    },
    {
     "cell_type": "heading",
     "level": 3,
     "metadata": {},
     "source": [
      "Estimating Regularizated out-of-sample Error"
     ]
    },
    {
     "cell_type": "code",
     "collapsed": false,
     "input": [
      "testY_reg_estimate = sign(X_test.dot(w_reg))"
     ],
     "language": "python",
     "metadata": {},
     "outputs": [],
     "prompt_number": 161
    },
    {
     "cell_type": "code",
     "collapsed": false,
     "input": [
      "E_out_reg = 1 - (1.0*sum(testY_reg_estimate == Y_test)/Y_test.shape[0])"
     ],
     "language": "python",
     "metadata": {},
     "outputs": [],
     "prompt_number": 162
    },
    {
     "cell_type": "code",
     "collapsed": false,
     "input": [
      "print \"Regularization out-of-sample Error:\" , E_out"
     ],
     "language": "python",
     "metadata": {},
     "outputs": [
      {
       "output_type": "stream",
       "stream": "stdout",
       "text": [
        "Regularization out-of-sample Error: 0.084\n"
       ]
      }
     ],
     "prompt_number": 163
    },
    {
     "cell_type": "heading",
     "level": 1,
     "metadata": {},
     "source": [
      "Problem 4"
     ]
    },
    {
     "cell_type": "code",
     "collapsed": false,
     "input": [
      "k = 3\n",
      "l = 10**k\n",
      "N = len(X)\n",
      "weighDecay = l*np.identity(8)\n",
      "\n",
      "pseudoInverse2 = inv(X.T.dot(X) + weighDecay).dot(X.T)\n",
      "\n",
      "w_reg = pseudoInverse2.dot(Y)\n",
      "\n",
      "Y_reg_est = sign(X.dot(w_reg))\n",
      "\n",
      "E_in_reg = 1 - (1.0*sum(Y_reg_est == Y)/Y.shape[0])\n",
      "\n",
      "print \"Regularization in Sample Error:\" , E_in_reg\n",
      "\n",
      "testY_reg_estimate = sign(X_test.dot(w_reg))\n",
      "\n",
      "E_out_reg = 1 - (1.0*sum(testY_reg_estimate == Y_test)/Y_test.shape[0])\n",
      "\n",
      "print \"Regularization out-of-sample Error:\" , E_out_reg"
     ],
     "language": "python",
     "metadata": {},
     "outputs": [
      {
       "output_type": "stream",
       "stream": "stdout",
       "text": [
        "Regularization in Sample Error: 0.371428571429\n",
        "Regularization out-of-sample Error: 0.436\n"
       ]
      }
     ],
     "prompt_number": 168
    },
    {
     "cell_type": "heading",
     "level": 1,
     "metadata": {},
     "source": [
      "Problems 5 y 6"
     ]
    },
    {
     "cell_type": "code",
     "collapsed": false,
     "input": [
      "def getOutSample(k):\n",
      "    l = 10**k\n",
      "    N = len(X)\n",
      "    weighDecay = l*np.identity(8)\n",
      "    pseudoInverse2 = inv(X.T.dot(X) + weighDecay).dot(X.T)\n",
      "    w_reg = pseudoInverse2.dot(Y)\n",
      "    Y_reg_est = sign(X.dot(w_reg))\n",
      "    E_in_reg = 1 - (1.0*sum(Y_reg_est == Y)/Y.shape[0])\n",
      "    testY_reg_estimate = sign(X_test.dot(w_reg))\n",
      "    E_out_reg = 1 - (1.0*sum(testY_reg_estimate == Y_test)/Y_test.shape[0])\n",
      "    return E_out_reg"
     ],
     "language": "python",
     "metadata": {},
     "outputs": [],
     "prompt_number": 169
    },
    {
     "cell_type": "code",
     "collapsed": false,
     "input": [
      "min([(getOutSample(i),i) for i in range(-200,200)])"
     ],
     "language": "python",
     "metadata": {},
     "outputs": [
      {
       "metadata": {},
       "output_type": "pyout",
       "prompt_number": 175,
       "text": [
        "(0.05600000000000005, -1)"
       ]
      }
     ],
     "prompt_number": 175
    },
    {
     "cell_type": "code",
     "collapsed": false,
     "input": [],
     "language": "python",
     "metadata": {},
     "outputs": []
    }
   ],
   "metadata": {}
  }
 ]
}