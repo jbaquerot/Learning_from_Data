{
 "metadata": {
  "name": "",
  "signature": "sha256:2ad5337f5615394d8b17e4ee44007b3d6a1909ccb6e30c07e701387a19c65d63"
 },
 "nbformat": 3,
 "nbformat_minor": 0,
 "worksheets": [
  {
   "cells": [
    {
     "cell_type": "code",
     "collapsed": false,
     "input": [
      "%pylab\n",
      "%matplotlib inline\n",
      "import pandas as pd\n",
      "import numpy.linalg"
     ],
     "language": "python",
     "metadata": {},
     "outputs": [
      {
       "output_type": "stream",
       "stream": "stdout",
       "text": [
        "Using matplotlib backend: MacOSX\n",
        "Populating the interactive namespace from numpy and matplotlib\n"
       ]
      }
     ],
     "prompt_number": 26
    },
    {
     "cell_type": "heading",
     "level": 1,
     "metadata": {},
     "source": [
      "Load Data"
     ]
    },
    {
     "cell_type": "code",
     "collapsed": false,
     "input": [
      "trainingDS = pd.read_fwf('./data/features.train', names = ['digit','symmetry','intensity'])\n",
      "trainingDS['x0'] = 1\n",
      "testingDS = pd.read_fwf('./data/features.test', names = ['digit','symmetry','intensity'])\n",
      "testingDS['x0'] = 1\n",
      "print \"Training Set Shape\" , trainingDS.shape\n",
      "print \"Testing Set Shape\" , testingDS.shape"
     ],
     "language": "python",
     "metadata": {},
     "outputs": [
      {
       "output_type": "stream",
       "stream": "stdout",
       "text": [
        "Training Set Shape (7291, 4)\n",
        "Testing Set Shape (2007, 4)\n"
       ]
      }
     ],
     "prompt_number": 70
    },
    {
     "cell_type": "heading",
     "level": 1,
     "metadata": {},
     "source": [
      "General Functions"
     ]
    },
    {
     "cell_type": "code",
     "collapsed": false,
     "input": [
      "def getError( model, X, Y):\n",
      "    lenght = len(Y)\n",
      "    #print sum(model.predict(X))\n",
      "    return 1-(1.0*sum(model.predict(X) == Y)/lenght)\n",
      "\n",
      "def getDataFor(DS, n):\n",
      "    X = DS[['x0','symmetry','intensity']].values\n",
      "    Y = map(lambda x: 1 if (x==n) else -1, DS.digit)\n",
      "    return X, Y\n",
      "\n",
      "def getDataForAnd(DS, n, m):\n",
      "    filtedDS = DS[(DS.digit == n) | (DS.digit == m)]\n",
      "    X = filtedDS[['x0','symmetry','intensity']].values\n",
      "    Y = map(lambda x: 1 if (x==n) else -1, filtedDS.digit)\n",
      "    return X, Y"
     ],
     "language": "python",
     "metadata": {},
     "outputs": [],
     "prompt_number": 127
    },
    {
     "cell_type": "heading",
     "level": 1,
     "metadata": {},
     "source": [
      "Linear Model with regularization"
     ]
    },
    {
     "cell_type": "heading",
     "level": 2,
     "metadata": {},
     "source": [
      "Problem 7"
     ]
    },
    {
     "cell_type": "code",
     "collapsed": false,
     "input": [
      "def linearModelWithRegularization(X_train, Y_train, X_test, Y_test, lam):\n",
      "    #Linear model with regularization\n",
      "\n",
      "    n_columns = X_train.shape[1]\n",
      "    n_rows = X_train.shape[0]\n",
      "    regMatrix = lam*np.identity(n_columns)\n",
      "    aux = inv(X_train.T.dot(X_train)+regMatrix)\n",
      "    wReg = aux.dot(X_train.T.dot(Y_train))\n",
      "    #predict with training values\n",
      "    predictedValues = np.sign(X_train.dot(wReg))\n",
      "    E_in =  1 - (1.0*sum(predictedValues == Y_train)/n_rows)\n",
      "    \n",
      "    #predict with test values\n",
      "    n_test_rows = X_test.shape[0]\n",
      "    predictedTestValues = np.sign(X_test.dot(wReg))\n",
      "    E_out =  1 - (1.0*sum(predictedTestValues == Y_test)/n_test_rows)\n",
      "    \n",
      "    return E_in, E_out"
     ],
     "language": "python",
     "metadata": {},
     "outputs": [],
     "prompt_number": 108
    },
    {
     "cell_type": "code",
     "collapsed": false,
     "input": [
      "def numberVsAll(trainDS, testDS, n, lam):\n",
      "    X_train, Y_train = getDataFor(trainDS, n)\n",
      "    X_test, Y_test = getDataFor(testDS, n)\n",
      "    E_in, E_out = linearModelWithRegularization(X_train, Y_train, X_test, Y_test, lam)\n",
      "    print n, \" versus all with lambda = \", lam, \" the E_in is:\" , E_in, \"and the E_out is: \", E_out"
     ],
     "language": "python",
     "metadata": {},
     "outputs": [],
     "prompt_number": 84
    },
    {
     "cell_type": "code",
     "collapsed": false,
     "input": [
      "numberVsAll(trainingDS, testingDS, 5, 1)\n",
      "numberVsAll(trainingDS, testingDS, 6, 1)\n",
      "numberVsAll(trainingDS, testingDS, 7, 1)\n",
      "numberVsAll(trainingDS, testingDS, 8, 1)\n",
      "numberVsAll(trainingDS, testingDS, 9, 1)"
     ],
     "language": "python",
     "metadata": {},
     "outputs": [
      {
       "output_type": "stream",
       "stream": "stdout",
       "text": [
        "5  versus all with lambda =  1  the E_in is: 0.0762584007681 and the E_out is:  0.079720976582\n",
        "6  versus all with lambda =  1  the E_in is: 0.0910711836511 and the E_out is:  0.0847035376183\n",
        "7  versus all with lambda =  1  the E_in is: 0.0884652311068 and the E_out is:  0.0732436472347\n",
        "8  versus all with lambda =  1  the E_in is: 0.0743382252092 and the E_out is:  0.0827105132038\n",
        "9  versus all with lambda =  1  the E_in is: 0.0883280757098 and the E_out is:  0.0881913303438\n"
       ]
      }
     ],
     "prompt_number": 109
    },
    {
     "cell_type": "heading",
     "level": 2,
     "metadata": {},
     "source": [
      "Problem 8"
     ]
    },
    {
     "cell_type": "code",
     "collapsed": false,
     "input": [
      "def getTranformDataFor(DS, n):\n",
      "    DS[\"x0\"] = 1\n",
      "    DS[\"x1\"] = DS.symmetry\n",
      "    DS[\"x2\"] = DS.intensity\n",
      "    DS[\"x1x2\"] = DS.symmetry * DS.intensity\n",
      "    DS[\"x1**2\"] = DS.symmetry **2\n",
      "    DS[\"x2**2\"] = DS.intensity ** 2 \n",
      "    X = DS[['x0','x1','x2','x1x2','x1**2','x2**2']].values\n",
      "    Y = map(lambda x: 1 if (x==n) else -1, DS.digit)\n",
      "    return X, Y"
     ],
     "language": "python",
     "metadata": {},
     "outputs": [],
     "prompt_number": 93
    },
    {
     "cell_type": "code",
     "collapsed": false,
     "input": [
      "def numberVsAllWithTransform(trainDS, testDS, n, lam):\n",
      "    X_train, Y_train = getTranformDataFor(trainDS, n)\n",
      "    X_test, Y_test = getTranformDataFor(testDS, n)\n",
      "    E_in, E_out = linearModelWithRegularization(X_train, Y_train, X_test, Y_test, lam)\n",
      "    print n, \" versus all transformed with lambda = \", lam, \" the E_in is:\" , E_in, \"and the E_out is: \", E_out"
     ],
     "language": "python",
     "metadata": {},
     "outputs": [],
     "prompt_number": 94
    },
    {
     "cell_type": "code",
     "collapsed": false,
     "input": [
      "numberVsAllWithTransform(trainingDS, testingDS, 0, 1)\n",
      "numberVsAllWithTransform(trainingDS, testingDS, 1, 1)\n",
      "numberVsAllWithTransform(trainingDS, testingDS, 2, 1)\n",
      "numberVsAllWithTransform(trainingDS, testingDS, 3, 1)\n",
      "numberVsAllWithTransform(trainingDS, testingDS, 4, 1)"
     ],
     "language": "python",
     "metadata": {},
     "outputs": [
      {
       "output_type": "stream",
       "stream": "stdout",
       "text": [
        "0  versus all transformed with lambda =  1  the E_in is: 0.10231792621 and the E_out is:  0.106626806178\n",
        "1  versus all transformed with lambda =  1  the E_in is: 0.0123439857358 and the E_out is:  0.02192326856\n",
        "2  versus all transformed with lambda =  1  the E_in is: 0.100260595254 and the E_out is:  0.0986547085202\n",
        "3  versus all transformed with lambda =  1  the E_in is: 0.0902482512687 and the E_out is:  0.0827105132038\n",
        "4"
       ]
      },
      {
       "output_type": "stream",
       "stream": "stdout",
       "text": [
        "  versus all transformed with lambda =  1  the E_in is: 0.0894253188863 and the E_out is:  0.0996512207275\n"
       ]
      }
     ],
     "prompt_number": 95
    },
    {
     "cell_type": "heading",
     "level": 2,
     "metadata": {},
     "source": [
      "Problem 9"
     ]
    },
    {
     "cell_type": "code",
     "collapsed": false,
     "input": [
      "numberVsAll(trainingDS, testingDS, 0, 1)\n",
      "numberVsAllWithTransform(trainingDS, testingDS, 0, 1)\n",
      "\n",
      "\n",
      "numberVsAll(trainingDS, testingDS, 9, 1)\n",
      "numberVsAllWithTransform(trainingDS, testingDS, 9, 1)\n",
      "\n",
      "numberVsAll(trainingDS, testingDS, 5, 1)\n",
      "numberVsAllWithTransform(trainingDS, testingDS, 5, 1)"
     ],
     "language": "python",
     "metadata": {},
     "outputs": [
      {
       "output_type": "stream",
       "stream": "stdout",
       "text": [
        "0  versus all with lambda =  1  the E_in is: 0.109312851461 and the E_out is:  0.11509715994\n",
        "0  versus all transformed with lambda =  1  the E_in is: 0.10231792621 and the E_out is:  0.106626806178\n",
        "9  versus all with lambda =  1  the E_in is: 0.0883280757098 and the E_out is:  0.0881913303438\n",
        "9"
       ]
      },
      {
       "output_type": "stream",
       "stream": "stdout",
       "text": [
        "  versus all transformed with lambda =  1  the E_in is: 0.0883280757098 and the E_out is:  0.0881913303438\n",
        "5  versus all with lambda =  1  the E_in is: 0.0762584007681 and the E_out is:  0.079720976582\n",
        "5  versus all transformed with lambda =  1  the E_in is: 0.0762584007681 and the E_out is:  0.0792227204783\n"
       ]
      }
     ],
     "prompt_number": 105
    },
    {
     "cell_type": "code",
     "collapsed": false,
     "input": [
      "(0.079720976582-0.0792227204783)/0.079720976582"
     ],
     "language": "python",
     "metadata": {},
     "outputs": [
      {
       "metadata": {},
       "output_type": "pyout",
       "prompt_number": 107,
       "text": [
        "0.006250000000784102"
       ]
      }
     ],
     "prompt_number": 107
    },
    {
     "cell_type": "heading",
     "level": 2,
     "metadata": {},
     "source": [
      "Problem 10"
     ]
    },
    {
     "cell_type": "code",
     "collapsed": false,
     "input": [
      "def getTranformDataForAnd(DS, n, m):\n",
      "    filtedDS = DS[(DS.digit == n) | (DS.digit == m)]\n",
      "    filtedDS[\"x0\"] = 1\n",
      "    filtedDS[\"x1\"] = filtedDS.symmetry\n",
      "    filtedDS[\"x2\"] = filtedDS.intensity\n",
      "    filtedDS[\"x1x2\"] = filtedDS.symmetry * filtedDS.intensity\n",
      "    filtedDS[\"x1**2\"] = filtedDS.symmetry **2\n",
      "    filtedDS[\"x2**2\"] = filtedDS.intensity ** 2 \n",
      "    X = filtedDS[['x0','x1','x2','x1x2','x1**2','x2**2']].values\n",
      "    Y = map(lambda x: 1 if (x==n) else -1, filtedDS.digit)\n",
      "    return X, Y"
     ],
     "language": "python",
     "metadata": {},
     "outputs": [],
     "prompt_number": 129
    },
    {
     "cell_type": "code",
     "collapsed": false,
     "input": [
      "def numberVsNumber(trainDS, testDS, n, m, lam):\n",
      "    X_train, Y_train = getDataForAnd(trainDS, n, m)\n",
      "    X_test, Y_test = getDataForAnd(testDS, n, m)\n",
      "    E_in, E_out = linearModelWithRegularization(X_train, Y_train, X_test, Y_test, lam)\n",
      "    print n, \" versus \", m, \" with lambda = \", lam, \" the E_in is:\" , E_in, \"and the E_out is: \", E_out"
     ],
     "language": "python",
     "metadata": {},
     "outputs": [],
     "prompt_number": 133
    },
    {
     "cell_type": "code",
     "collapsed": false,
     "input": [
      "def numberVsNumberWithTransform(trainDS, testDS, n, m, lam):\n",
      "    X_train, Y_train = getTranformDataForAnd(trainDS, n, m)\n",
      "    X_test, Y_test = getTranformDataForAnd(testDS, n, m)\n",
      "    E_in, E_out = linearModelWithRegularization(X_train, Y_train, X_test, Y_test, lam)\n",
      "    print n, \" versus \", m, \" transformed with lambda = \", lam, \" the E_in is:\" , E_in, \"and the E_out is: \", E_out"
     ],
     "language": "python",
     "metadata": {},
     "outputs": [],
     "prompt_number": 131
    },
    {
     "cell_type": "code",
     "collapsed": false,
     "input": [
      "numberVsNumberWithTransform(trainingDS, testingDS, 1, 5, 1)\n",
      "numberVsNumberWithTransform(trainingDS, testingDS, 1, 5, 0.01)"
     ],
     "language": "python",
     "metadata": {},
     "outputs": [
      {
       "output_type": "stream",
       "stream": "stdout",
       "text": [
        "1  versus  5  transformed with lambda =  1  the E_in is: 0.00512491992313 and the E_out is:  0.0259433962264\n",
        "1"
       ]
      },
      {
       "output_type": "stream",
       "stream": "stdout",
       "text": [
        "  versus  5  transformed with lambda =  0.01  the E_in is: 0.00448430493274 and the E_out is:  0.0283018867925\n"
       ]
      }
     ],
     "prompt_number": 132
    },
    {
     "cell_type": "code",
     "collapsed": false,
     "input": [],
     "language": "python",
     "metadata": {},
     "outputs": []
    }
   ],
   "metadata": {}
  }
 ]
}