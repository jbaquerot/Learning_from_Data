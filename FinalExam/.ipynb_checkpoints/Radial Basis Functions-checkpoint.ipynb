{
 "metadata": {
  "name": "",
  "signature": "sha256:909bea13d10aaca3b3a781f66a27bc6d98f3f6ed9bf755d47ff695fffa6c766b"
 },
 "nbformat": 3,
 "nbformat_minor": 0,
 "worksheets": [
  {
   "cells": [
    {
     "cell_type": "code",
     "collapsed": false,
     "input": [
      "%pylab\n",
      "%matplotlib inline\n",
      "import pandas as pd\n",
      "from sklearn import svm"
     ],
     "language": "python",
     "metadata": {},
     "outputs": [
      {
       "output_type": "stream",
       "stream": "stdout",
       "text": [
        "Using matplotlib backend: MacOSX\n",
        "Populating the interactive namespace from numpy and matplotlib\n"
       ]
      }
     ],
     "prompt_number": 1
    },
    {
     "cell_type": "heading",
     "level": 3,
     "metadata": {},
     "source": [
      "Generating Data Points"
     ]
    },
    {
     "cell_type": "code",
     "collapsed": false,
     "input": [
      "targetFunction = lambda x1, x2: np.sign(x2 - x1 + 0.25*sin(pi*x1))\n",
      "\n",
      "def getOnePoint():\n",
      "    x0 = 1\n",
      "    x1 = random.uniform(-1,1)\n",
      "    x2 = random.uniform(-1,1)\n",
      "    y = targetFunction(x1,x2)\n",
      "    return np.array([x0, x1, x2, y])\n",
      "\n",
      "def getDataSet(n):\n",
      "    points = [getOnePoint() for i in range(n)]\n",
      "    return pd.DataFrame(points, columns=['x0','x1','x2','y'])\n",
      "\n",
      "def getValues(DS):\n",
      "    X = DS[['x1','x2']].values\n",
      "    Y = DS['y'].values\n",
      "    return X, Y\n",
      "\n",
      "def getValuesWithBias(DS):\n",
      "    X = DS[['x0','x1','x2']].values\n",
      "    Y = DS['y'].values\n",
      "    return X, Y"
     ],
     "language": "python",
     "metadata": {},
     "outputs": [],
     "prompt_number": 197
    },
    {
     "cell_type": "code",
     "collapsed": false,
     "input": [
      "getOnePoint()"
     ],
     "language": "python",
     "metadata": {},
     "outputs": [
      {
       "metadata": {},
       "output_type": "pyout",
       "prompt_number": 4,
       "text": [
        "array([ 0.34568741, -0.71956917, -1.        ])"
       ]
      }
     ],
     "prompt_number": 4
    },
    {
     "cell_type": "code",
     "collapsed": false,
     "input": [
      "N = 100\n",
      "trainingSet = getDataSet(N)\n",
      "\n",
      "colors = np.where(trainingSet.y == -1, 'r', 'k' )\n",
      "plt.scatter(trainingSet.x1, trainingSet.x2, color= colors)\n",
      "#plt.plot([-1,1], [f(-1),f(1)])\n",
      "plt.show()"
     ],
     "language": "python",
     "metadata": {},
     "outputs": [
      {
       "metadata": {},
       "output_type": "display_data",
       "png": "[encoded data removed]",
       "text": [
        "<matplotlib.figure.Figure at 0x109c6cc50>"
       ]
      }
     ],
     "prompt_number": 5
    },
    {
     "cell_type": "heading",
     "level": 2,
     "metadata": {},
     "source": [
      "Common Methods"
     ]
    },
    {
     "cell_type": "code",
     "collapsed": false,
     "input": [
      "def getError( model, X, Y):\n",
      "    lenght = len(Y)\n",
      "    #print sum(model.predict(X))\n",
      "    return 1-(1.0*sum(model.predict(X) == Y)/lenght)\n",
      "\n"
     ],
     "language": "python",
     "metadata": {},
     "outputs": [],
     "prompt_number": 6
    },
    {
     "cell_type": "heading",
     "level": 2,
     "metadata": {},
     "source": [
      "Problem 13"
     ]
    },
    {
     "cell_type": "markdown",
     "metadata": {},
     "source": [
      "For gamma = 1.5, how often do you get a data set that is not separable by the RBF kernel (using hard-margin SVM). Hint: Run the hard-margin SVM, then check that the solution has E_in = 0."
     ]
    },
    {
     "cell_type": "code",
     "collapsed": false,
     "input": [
      "def trainingSVM(DS, C_param, gamma_param):\n",
      "    X_training , Y_training = getValues(DS)\n",
      "    rbf_SVM = svm.SVC(kernel = 'rbf', C=C_param, gamma=gamma_param)\n",
      "    #training the model\n",
      "    rbf_SVM.fit(X_training, Y_training)\n",
      "    return rbf_SVM, X_training, Y_training\n",
      "\n",
      "def runExperiment13():\n",
      "    DataSet = getDataSet(100)\n",
      "    model, X, Y = trainingSVM(DataSet, 1, 1.5 )\n",
      "    return getError(model, X, Y)\n",
      "    #print \"E_in: \" , getError(model, X, Y)"
     ],
     "language": "python",
     "metadata": {},
     "outputs": [],
     "prompt_number": 13
    },
    {
     "cell_type": "code",
     "collapsed": false,
     "input": [
      "n_experiments = 1000\n",
      "[1.0*sum([runExperiment13()==0 for i in range(n_experiments)])/n_experiments for j in range(10)]"
     ],
     "language": "python",
     "metadata": {},
     "outputs": [
      {
       "metadata": {},
       "output_type": "pyout",
       "prompt_number": 30,
       "text": [
        "[0.034, 0.051, 0.051, 0.049, 0.043, 0.037, 0.046, 0.04, 0.062, 0.046]"
       ]
      }
     ],
     "prompt_number": 30
    },
    {
     "cell_type": "code",
     "collapsed": false,
     "input": [
      "mean([0.034, 0.051, 0.051, 0.049, 0.043, 0.037, 0.046, 0.04, 0.062, 0.046])"
     ],
     "language": "python",
     "metadata": {},
     "outputs": [
      {
       "metadata": {},
       "output_type": "pyout",
       "prompt_number": 31,
       "text": [
        "0.045899999999999996"
       ]
      }
     ],
     "prompt_number": 31
    },
    {
     "cell_type": "heading",
     "level": 2,
     "metadata": {},
     "source": [
      "Problem 14"
     ]
    },
    {
     "cell_type": "markdown",
     "metadata": {},
     "source": [
      "If we use K = 9 for regular RBF and take gamma = 1.5, how often does the kernel form beat the regular form (excluding runs mentioned in Problem 13 and runs with empty clusters, if any) in terms of E_out?"
     ]
    },
    {
     "cell_type": "heading",
     "level": 3,
     "metadata": {},
     "source": [
      "Choose the centers"
     ]
    },
    {
     "cell_type": "code",
     "collapsed": false,
     "input": [
      "from sklearn.cluster import KMeans"
     ],
     "language": "python",
     "metadata": {},
     "outputs": [],
     "prompt_number": 32
    },
    {
     "cell_type": "code",
     "collapsed": false,
     "input": [
      "def trainRBG(DS, n_centers, gamma_param):\n",
      "    X , Y = getValuesWithBias(DS)\n",
      "    #get the centers\n",
      "    KMeanModel = KMeans(n_clusters=n_centers).fit(X, Y)\n",
      "    centers = KMeanModel.cluster_centers_\n",
      "    #get the phi matrix\n",
      "    phi = np.array([exp(-gamma_param*norm(centers-x, axis=1)) for x in X])\n",
      "    #get params\n",
      "    w = inv(phi.T.dot(phi)).dot(phi.T).dot(Y)\n",
      "    return w, centers, X, Y\n",
      "\n",
      "def getErrorRBF(w, centers, X, Y):\n",
      "    lenght = len(Y)\n",
      "    return 1-(1.0*sum(sign(X.dot(centers.T).dot(w)) == Y)/lenght)"
     ],
     "language": "python",
     "metadata": {},
     "outputs": [],
     "prompt_number": 217
    },
    {
     "cell_type": "code",
     "collapsed": false,
     "input": [
      "def experiment14():\n",
      "    gamma = 1.5\n",
      "    n_centers = 9\n",
      "    DataSet = getDataSet(100)\n",
      "    #Training RBG (Regular Form)\n",
      "    w, centers, X, Y = trainRBG(DataSet, n_centers, gamma)\n",
      "    #Training SVN (Kernel Form)\n",
      "    model, X, Y = trainingSVM(DataSet, 1, gamma )\n",
      "\n",
      "    #New data set for testing\n",
      "    TestSet = getDataSet(100)\n",
      "    X_test, Y_test = getValuesWithBias(TestSet)\n",
      "    #get error for RBF\n",
      "    error_RBF = getErrorRBF(w, centers, X_test, Y_test)\n",
      "    #get error for SVN\n",
      "    X_test, Y_test = getValues(TestSet)\n",
      "    error_SVN = getError(model, X_test, Y_test)\n",
      "    return error_RBF < error_SVN"
     ],
     "language": "python",
     "metadata": {},
     "outputs": [],
     "prompt_number": 242
    },
    {
     "cell_type": "code",
     "collapsed": false,
     "input": [
      "mean([experiment14() for i in range(500)])"
     ],
     "language": "python",
     "metadata": {},
     "outputs": [
      {
       "metadata": {},
       "output_type": "pyout",
       "prompt_number": 264,
       "text": [
        "0.16400000000000001"
       ]
      }
     ],
     "prompt_number": 264
    },
    {
     "cell_type": "heading",
     "level": 1,
     "metadata": {},
     "source": [
      "Problem 15"
     ]
    },
    {
     "cell_type": "code",
     "collapsed": false,
     "input": [
      "def experiment15():\n",
      "    gamma = 1.5\n",
      "    n_centers = 12\n",
      "    DataSet = getDataSet(100)\n",
      "    #Training RBG (Regular Form)\n",
      "    w, centers, X, Y = trainRBG(DataSet, n_centers, gamma)\n",
      "    #Training SVN (Kernel Form)\n",
      "    model, X, Y = trainingSVM(DataSet, 1, gamma )\n",
      "\n",
      "    #New data set for testing\n",
      "    TestSet = getDataSet(100)\n",
      "    X_test, Y_test = getValuesWithBias(TestSet)\n",
      "    #get error for RBF\n",
      "    error_RBF = getErrorRBF(w, centers, X_test, Y_test)\n",
      "    #get error for SVN\n",
      "    X_test, Y_test = getValues(TestSet)\n",
      "    error_SVN = getError(model, X_test, Y_test)\n",
      "    return error_RBF < error_SVN"
     ],
     "language": "python",
     "metadata": {},
     "outputs": [],
     "prompt_number": 243
    },
    {
     "cell_type": "code",
     "collapsed": false,
     "input": [
      "mean([experiment15() for i in range(1000)])"
     ],
     "language": "python",
     "metadata": {},
     "outputs": [
      {
       "metadata": {},
       "output_type": "pyout",
       "prompt_number": 248,
       "text": [
        "0.184"
       ]
      }
     ],
     "prompt_number": 248
    },
    {
     "cell_type": "heading",
     "level": 1,
     "metadata": {},
     "source": [
      "Problem 16"
     ]
    },
    {
     "cell_type": "code",
     "collapsed": false,
     "input": [
      "def experiment16():\n",
      "    gamma = 1.5\n",
      "    n_centers9 = 9\n",
      "    n_centers12 = 12\n",
      "    DataSet = getDataSet(100)\n",
      "    #Training RBG with 9 centers (Regular Form)\n",
      "    w9, centers9, X, Y = trainRBG(DataSet, n_centers9, gamma)\n",
      "    E_in_RBF_9 = getErrorRBF(w9, centers9, X, Y)\n",
      "    #Training RBG with 12 centers (Regular Form)\n",
      "    w12, centers12, X, Y = trainRBG(DataSet, n_centers12, gamma)\n",
      "    E_in_RBF_12 = getErrorRBF(w12, centers12, X, Y)\n",
      "    #New data set for testing\n",
      "    TestSet = getDataSet(100)\n",
      "    X_test, Y_test = getValuesWithBias(TestSet)\n",
      "    #get error for RBF for 9 centers\n",
      "    E_out_RBF_9 = getErrorRBF(w9, centers9, X_test, Y_test)\n",
      "    #get error for RBF for 12 centers\n",
      "    E_out_RBF_12 = getErrorRBF(w12, centers12, X_test, Y_test)\n",
      "    #print \"RBF 9, E_in: \", E_in_RBF_9, \" E_out: \", E_out_RBF_9 \n",
      "    #print \"RBF 12, E_in: \", E_in_RBF_12, \" E_out: \", E_out_RBF_12\n",
      "    return (E_in_RBF_9 < E_in_RBF_12, E_out_RBF_9 < E_out_RBF_12)\n"
     ],
     "language": "python",
     "metadata": {},
     "outputs": [],
     "prompt_number": 270
    },
    {
     "cell_type": "code",
     "collapsed": false,
     "input": [
      "mean([experiment16() for i in range(500)], axis=0)"
     ],
     "language": "python",
     "metadata": {},
     "outputs": [
      {
       "metadata": {},
       "output_type": "pyout",
       "prompt_number": 271,
       "text": [
        "array([ 0.34,  0.34])"
       ]
      }
     ],
     "prompt_number": 271
    },
    {
     "cell_type": "heading",
     "level": 1,
     "metadata": {},
     "source": [
      "Problem 17"
     ]
    },
    {
     "cell_type": "code",
     "collapsed": false,
     "input": [
      "def experiment17():\n",
      "    gamma1 = 1.5\n",
      "    gamma2 = 2\n",
      "    n_centers = 9\n",
      "    DataSet = getDataSet(100)\n",
      "    #Training RBG with gamma 1.5 centers (Regular Form)\n",
      "    w1, centers1, X, Y = trainRBG(DataSet, n_centers, gamma1)\n",
      "    E_in_RBF_1 = getErrorRBF(w1, centers1, X, Y)\n",
      "    #Training RBG with gamma 2 centers (Regular Form)\n",
      "    w2, centers2, X, Y = trainRBG(DataSet, n_centers, gamma2)\n",
      "    E_in_RBF_2 = getErrorRBF(w2, centers, X, Y)\n",
      "    #New data set for testing\n",
      "    TestSet = getDataSet(100)\n",
      "    X_test, Y_test = getValuesWithBias(TestSet)\n",
      "    #get out of sample error for RBF with gamma 1.5\n",
      "    E_out_RBF_1 = getErrorRBF(w1, centers1, X_test, Y_test)\n",
      "    #get out of sample error for RBF with gamma 2\n",
      "    E_out_RBF_2 = getErrorRBF(w2, centers2, X_test, Y_test)\n",
      "    #print \"RBF 9, E_in: \", E_in_RBF_9, \" E_out: \", E_out_RBF_9 \n",
      "    #print \"RBF 12, E_in: \", E_in_RBF_12, \" E_out: \", E_out_RBF_12\n",
      "    return (E_in_RBF_1 < E_in_RBF_2, E_out_RBF_1 < E_out_RBF_2)\n"
     ],
     "language": "python",
     "metadata": {},
     "outputs": [],
     "prompt_number": 269
    },
    {
     "cell_type": "code",
     "collapsed": false,
     "input": [
      "mean([experiment17() for i in range(500)], axis=0)"
     ],
     "language": "python",
     "metadata": {},
     "outputs": [
      {
       "metadata": {},
       "output_type": "pyout",
       "prompt_number": 273,
       "text": [
        "array([ 0.972,  0.388])"
       ]
      }
     ],
     "prompt_number": 273
    },
    {
     "cell_type": "heading",
     "level": 1,
     "metadata": {},
     "source": [
      "Problem 18"
     ]
    },
    {
     "cell_type": "code",
     "collapsed": false,
     "input": [
      "def experiment18():\n",
      "    gamma = 1.5\n",
      "    n_centers = 9\n",
      "    DataSet = getDataSet(100)\n",
      "    #Training RBG with gamma 1.5 centers (Regular Form)\n",
      "    w, centers, X, Y = trainRBG(DataSet, n_centers, gamma)\n",
      "    E_in_RBF = getErrorRBF(w, centers, X, Y)\n",
      "    return E_in_RBF == 0"
     ],
     "language": "python",
     "metadata": {},
     "outputs": [],
     "prompt_number": 284
    },
    {
     "cell_type": "code",
     "collapsed": false,
     "input": [
      "mean([experiment18() for i in range(500)])"
     ],
     "language": "python",
     "metadata": {},
     "outputs": []
    },
    {
     "cell_type": "code",
     "collapsed": false,
     "input": [],
     "language": "python",
     "metadata": {},
     "outputs": []
    },
    {
     "cell_type": "code",
     "collapsed": false,
     "input": [
      "DataSet = getDataSet(100)\n",
      "X_training , Y_training = getValuesWithBias(DataSet)\n",
      "n_centers = 9\n",
      "gamma = 1.5\n",
      "KMeanModel = KMeans(n_clusters=n_centers).fit(X_training, Y_training)"
     ],
     "language": "python",
     "metadata": {},
     "outputs": [],
     "prompt_number": 202
    },
    {
     "cell_type": "code",
     "collapsed": false,
     "input": [],
     "language": "python",
     "metadata": {},
     "outputs": []
    },
    {
     "cell_type": "code",
     "collapsed": false,
     "input": [
      "centers = KMeanModel.cluster_centers_"
     ],
     "language": "python",
     "metadata": {},
     "outputs": [],
     "prompt_number": 203
    },
    {
     "cell_type": "code",
     "collapsed": false,
     "input": [
      "phi = np.array([exp(-gamma*norm(centers-x, axis=1)) for x in X_training])"
     ],
     "language": "python",
     "metadata": {},
     "outputs": [],
     "prompt_number": 204
    },
    {
     "cell_type": "code",
     "collapsed": false,
     "input": [
      "w = inv(phi.T.dot(phi)).dot(phi.T).dot(Y_training)\n",
      "\n",
      "sign(X_training.dot(centers.T).dot(w)) == Y_training"
     ],
     "language": "python",
     "metadata": {},
     "outputs": [
      {
       "metadata": {},
       "output_type": "pyout",
       "prompt_number": 205,
       "text": [
        "array([ True,  True,  True,  True,  True,  True,  True,  True,  True,\n",
        "        True,  True,  True,  True, False, False,  True,  True,  True,\n",
        "        True,  True,  True,  True,  True,  True, False,  True,  True,\n",
        "        True,  True,  True,  True,  True,  True,  True,  True,  True,\n",
        "        True,  True,  True,  True,  True,  True,  True,  True, False,\n",
        "        True,  True,  True,  True,  True,  True,  True,  True,  True,\n",
        "        True,  True,  True,  True,  True,  True,  True,  True,  True,\n",
        "        True,  True,  True,  True,  True,  True,  True,  True,  True,\n",
        "        True,  True,  True,  True,  True,  True,  True,  True,  True,\n",
        "        True,  True,  True,  True,  True,  True,  True,  True,  True,\n",
        "        True,  True,  True,  True,  True,  True, False,  True,  True,  True], dtype=bool)"
       ]
      }
     ],
     "prompt_number": 205
    },
    {
     "cell_type": "code",
     "collapsed": false,
     "input": [
      "colors = np.where(trainingSet.y == -1, 'r', 'k' )\n",
      "plt.scatter(trainingSet.x1, trainingSet.x2, color= colors)\n",
      "plt.scatter(KMeanModel.cluster_centers_.T[0], KMeanModel.cluster_centers_.T[1], \n",
      "            color = 'b', marker='^')\n",
      "#plt.plot([-1,1], [f(-1),f(1)])\n",
      "plt.show()"
     ],
     "language": "python",
     "metadata": {},
     "outputs": [
      {
       "metadata": {},
       "output_type": "display_data",
       "png": "[encoded data removed]",
       "text": [
        "<matplotlib.figure.Figure at 0x10a008b10>"
       ]
      }
     ],
     "prompt_number": 75
    },
    {
     "cell_type": "code",
     "collapsed": false,
     "input": [],
     "language": "python",
     "metadata": {},
     "outputs": []
    }
   ],
   "metadata": {}
  }
 ]
}